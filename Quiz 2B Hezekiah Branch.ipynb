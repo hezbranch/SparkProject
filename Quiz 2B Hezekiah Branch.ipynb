{
 "cells": [
  {
   "cell_type": "markdown",
   "id": "8465f294",
   "metadata": {},
   "source": [
    "# Quiz 2B\n",
    "\n",
    "## CS 119: Big Data\n",
    "\n",
    "#### Submitted by: Hezekiah Branch"
   ]
  },
  {
   "cell_type": "code",
   "execution_count": 1,
   "id": "12cd7697",
   "metadata": {},
   "outputs": [],
   "source": [
    "import pyspark\n",
    "import nltk\n",
    "import pandas as pd"
   ]
  },
  {
   "cell_type": "markdown",
   "id": "60408052",
   "metadata": {},
   "source": [
    "## Question 1: TF-IDF analysis of text"
   ]
  },
  {
   "cell_type": "markdown",
   "id": "8aff178f",
   "metadata": {},
   "source": [
    "Read in dataset of last ten president speeeches from public Google Cloud bucket"
   ]
  },
  {
   "cell_type": "code",
   "execution_count": 2,
   "id": "86067679",
   "metadata": {},
   "outputs": [
    {
     "data": {
      "text/html": [
       "<div>\n",
       "<style scoped>\n",
       "    .dataframe tbody tr th:only-of-type {\n",
       "        vertical-align: middle;\n",
       "    }\n",
       "\n",
       "    .dataframe tbody tr th {\n",
       "        vertical-align: top;\n",
       "    }\n",
       "\n",
       "    .dataframe thead th {\n",
       "        text-align: right;\n",
       "    }\n",
       "</style>\n",
       "<table border=\"1\" class=\"dataframe\">\n",
       "  <thead>\n",
       "    <tr style=\"text-align: right;\">\n",
       "      <th></th>\n",
       "      <th>content</th>\n",
       "      <th>president</th>\n",
       "      <th>year</th>\n",
       "    </tr>\n",
       "  </thead>\n",
       "  <tbody>\n",
       "    <tr>\n",
       "      <th>0</th>\n",
       "      <td>\\nSenator Hatfield, Mr. Chief Justice, Mr. Pre...</td>\n",
       "      <td>Ronald Reagan</td>\n",
       "      <td>1981</td>\n",
       "    </tr>\n",
       "    <tr>\n",
       "      <th>1</th>\n",
       "      <td>\\nSenator Mathias, Chief Justice Burger, Vice ...</td>\n",
       "      <td>Ronald Reagan</td>\n",
       "      <td>1985</td>\n",
       "    </tr>\n",
       "    <tr>\n",
       "      <th>2</th>\n",
       "      <td>\\nMr. Chief Justice, Mr. President, Vice Presi...</td>\n",
       "      <td>George Bush</td>\n",
       "      <td>1989</td>\n",
       "    </tr>\n",
       "    <tr>\n",
       "      <th>3</th>\n",
       "      <td>\\nMy fellow citizens, today we celebrate the m...</td>\n",
       "      <td>William J. Clinton</td>\n",
       "      <td>1993</td>\n",
       "    </tr>\n",
       "    <tr>\n",
       "      <th>4</th>\n",
       "      <td>\\nMy fellow citizens, at this last Presidentia...</td>\n",
       "      <td>William J. Clinton</td>\n",
       "      <td>1997</td>\n",
       "    </tr>\n",
       "  </tbody>\n",
       "</table>\n",
       "</div>"
      ],
      "text/plain": [
       "                                             content           president  year\n",
       "0  \\nSenator Hatfield, Mr. Chief Justice, Mr. Pre...       Ronald Reagan  1981\n",
       "1  \\nSenator Mathias, Chief Justice Burger, Vice ...       Ronald Reagan  1985\n",
       "2  \\nMr. Chief Justice, Mr. President, Vice Presi...         George Bush  1989\n",
       "3  \\nMy fellow citizens, today we celebrate the m...  William J. Clinton  1993\n",
       "4  \\nMy fellow citizens, at this last Presidentia...  William J. Clinton  1997"
      ]
     },
     "execution_count": 2,
     "metadata": {},
     "output_type": "execute_result"
    }
   ],
   "source": [
    "path = \"https://storage.googleapis.com/jsingh-bigdata-public/ten_us_presidents_transcripts.csv\"\n",
    "pres_speeches = pd.read_csv(path)\n",
    "pres_speeches.drop('Unnamed: 0', axis=1, inplace=True)\n",
    "pres_speeches.head()"
   ]
  },
  {
   "cell_type": "code",
   "execution_count": 3,
   "id": "62ad4e00",
   "metadata": {},
   "outputs": [],
   "source": [
    "speeches = pres_speeches.copy()"
   ]
  },
  {
   "cell_type": "code",
   "execution_count": 4,
   "id": "fee21db1",
   "metadata": {},
   "outputs": [
    {
     "data": {
      "text/html": [
       "<div>\n",
       "<style scoped>\n",
       "    .dataframe tbody tr th:only-of-type {\n",
       "        vertical-align: middle;\n",
       "    }\n",
       "\n",
       "    .dataframe tbody tr th {\n",
       "        vertical-align: top;\n",
       "    }\n",
       "\n",
       "    .dataframe thead th {\n",
       "        text-align: right;\n",
       "    }\n",
       "</style>\n",
       "<table border=\"1\" class=\"dataframe\">\n",
       "  <thead>\n",
       "    <tr style=\"text-align: right;\">\n",
       "      <th></th>\n",
       "      <th>content</th>\n",
       "      <th>president</th>\n",
       "      <th>year</th>\n",
       "    </tr>\n",
       "  </thead>\n",
       "  <tbody>\n",
       "    <tr>\n",
       "      <th>0</th>\n",
       "      <td>[Senator Hatfield, Mr. Chief Justice, Mr. Pres...</td>\n",
       "      <td>Ronald Reagan</td>\n",
       "      <td>1981</td>\n",
       "    </tr>\n",
       "    <tr>\n",
       "      <th>1</th>\n",
       "      <td>[Senator Mathias, Chief Justice Burger, Vice P...</td>\n",
       "      <td>Ronald Reagan</td>\n",
       "      <td>1985</td>\n",
       "    </tr>\n",
       "    <tr>\n",
       "      <th>2</th>\n",
       "      <td>[Mr. Chief Justice, Mr. President, Vice Presid...</td>\n",
       "      <td>George Bush</td>\n",
       "      <td>1989</td>\n",
       "    </tr>\n",
       "    <tr>\n",
       "      <th>3</th>\n",
       "      <td>[My fellow citizens, today we celebrate the my...</td>\n",
       "      <td>William J. Clinton</td>\n",
       "      <td>1993</td>\n",
       "    </tr>\n",
       "    <tr>\n",
       "      <th>4</th>\n",
       "      <td>[My fellow citizens, at this last Presidential...</td>\n",
       "      <td>William J. Clinton</td>\n",
       "      <td>1997</td>\n",
       "    </tr>\n",
       "    <tr>\n",
       "      <th>5</th>\n",
       "      <td>[Thank you, all. Chief Justice Rehnquist, Pres...</td>\n",
       "      <td>George W. Bush</td>\n",
       "      <td>2001</td>\n",
       "    </tr>\n",
       "    <tr>\n",
       "      <th>6</th>\n",
       "      <td>[Vice President Cheney, Mr. Chief Justice, Pre...</td>\n",
       "      <td>George W. Bush</td>\n",
       "      <td>2005</td>\n",
       "    </tr>\n",
       "    <tr>\n",
       "      <th>7</th>\n",
       "      <td>[My fellow citizens, I stand here today humble...</td>\n",
       "      <td>Barack Obama</td>\n",
       "      <td>2009</td>\n",
       "    </tr>\n",
       "    <tr>\n",
       "      <th>8</th>\n",
       "      <td>[Thank you. Thank you so much., Vice President...</td>\n",
       "      <td>Barack Obama</td>\n",
       "      <td>2013</td>\n",
       "    </tr>\n",
       "    <tr>\n",
       "      <th>9</th>\n",
       "      <td>[Chief Justice Roberts, President Carter, Pres...</td>\n",
       "      <td>Donald J. Trump</td>\n",
       "      <td>2017</td>\n",
       "    </tr>\n",
       "  </tbody>\n",
       "</table>\n",
       "</div>"
      ],
      "text/plain": [
       "                                             content           president  year\n",
       "0  [Senator Hatfield, Mr. Chief Justice, Mr. Pres...       Ronald Reagan  1981\n",
       "1  [Senator Mathias, Chief Justice Burger, Vice P...       Ronald Reagan  1985\n",
       "2  [Mr. Chief Justice, Mr. President, Vice Presid...         George Bush  1989\n",
       "3  [My fellow citizens, today we celebrate the my...  William J. Clinton  1993\n",
       "4  [My fellow citizens, at this last Presidential...  William J. Clinton  1997\n",
       "5  [Thank you, all. Chief Justice Rehnquist, Pres...      George W. Bush  2001\n",
       "6  [Vice President Cheney, Mr. Chief Justice, Pre...      George W. Bush  2005\n",
       "7  [My fellow citizens, I stand here today humble...        Barack Obama  2009\n",
       "8  [Thank you. Thank you so much., Vice President...        Barack Obama  2013\n",
       "9  [Chief Justice Roberts, President Carter, Pres...     Donald J. Trump  2017"
      ]
     },
     "execution_count": 4,
     "metadata": {},
     "output_type": "execute_result"
    }
   ],
   "source": [
    "separate_docs = lambda x: x.split('\\n')[1:]\n",
    "speeches['content'] = speeches['content'].apply(separate_docs)\n",
    "speeches"
   ]
  },
  {
   "cell_type": "markdown",
   "id": "336ec0f0",
   "metadata": {},
   "source": [
    "Add required preprocessing with regex from assignment prompt"
   ]
  },
  {
   "cell_type": "code",
   "execution_count": 5,
   "id": "51cf898a",
   "metadata": {},
   "outputs": [],
   "source": [
    "import re\n",
    "import string\n",
    "\n",
    "def clean_text(text):\n",
    "    text = text.lower()\n",
    "    text = re.sub('\\[.*?\\]', '', text)\n",
    "    text = re.sub('[%s]' % re.escape(string.punctuation), ' ', text)\n",
    "    text = re.sub('[\\d\\n]', ' ', text)\n",
    "    return text\n",
    "\n",
    "round1 = lambda x: clean_text(x).strip()"
   ]
  },
  {
   "cell_type": "code",
   "execution_count": 6,
   "id": "f2e9bc4a",
   "metadata": {},
   "outputs": [],
   "source": [
    "for row in range(len(speeches.content)):\n",
    "    cleaned = []\n",
    "    for item in speeches.content.iloc[row]:\n",
    "        cleaned.append(clean_text(item).strip())\n",
    "    speeches.at[row, 'content'] = cleaned"
   ]
  },
  {
   "cell_type": "code",
   "execution_count": 7,
   "id": "21ac1322",
   "metadata": {},
   "outputs": [
    {
     "data": {
      "text/html": [
       "<div>\n",
       "<style scoped>\n",
       "    .dataframe tbody tr th:only-of-type {\n",
       "        vertical-align: middle;\n",
       "    }\n",
       "\n",
       "    .dataframe tbody tr th {\n",
       "        vertical-align: top;\n",
       "    }\n",
       "\n",
       "    .dataframe thead th {\n",
       "        text-align: right;\n",
       "    }\n",
       "</style>\n",
       "<table border=\"1\" class=\"dataframe\">\n",
       "  <thead>\n",
       "    <tr style=\"text-align: right;\">\n",
       "      <th></th>\n",
       "      <th>content</th>\n",
       "      <th>president</th>\n",
       "      <th>year</th>\n",
       "    </tr>\n",
       "  </thead>\n",
       "  <tbody>\n",
       "    <tr>\n",
       "      <th>0</th>\n",
       "      <td>[senator hatfield  mr  chief justice  mr  pres...</td>\n",
       "      <td>Ronald Reagan</td>\n",
       "      <td>1981</td>\n",
       "    </tr>\n",
       "    <tr>\n",
       "      <th>1</th>\n",
       "      <td>[senator mathias  chief justice burger  vice p...</td>\n",
       "      <td>Ronald Reagan</td>\n",
       "      <td>1985</td>\n",
       "    </tr>\n",
       "    <tr>\n",
       "      <th>2</th>\n",
       "      <td>[mr  chief justice  mr  president  vice presid...</td>\n",
       "      <td>George Bush</td>\n",
       "      <td>1989</td>\n",
       "    </tr>\n",
       "    <tr>\n",
       "      <th>3</th>\n",
       "      <td>[my fellow citizens  today we celebrate the my...</td>\n",
       "      <td>William J. Clinton</td>\n",
       "      <td>1993</td>\n",
       "    </tr>\n",
       "    <tr>\n",
       "      <th>4</th>\n",
       "      <td>[my fellow citizens  at this last presidential...</td>\n",
       "      <td>William J. Clinton</td>\n",
       "      <td>1997</td>\n",
       "    </tr>\n",
       "    <tr>\n",
       "      <th>5</th>\n",
       "      <td>[thank you  all  chief justice rehnquist  pres...</td>\n",
       "      <td>George W. Bush</td>\n",
       "      <td>2001</td>\n",
       "    </tr>\n",
       "    <tr>\n",
       "      <th>6</th>\n",
       "      <td>[vice president cheney  mr  chief justice  pre...</td>\n",
       "      <td>George W. Bush</td>\n",
       "      <td>2005</td>\n",
       "    </tr>\n",
       "    <tr>\n",
       "      <th>7</th>\n",
       "      <td>[my fellow citizens  i stand here today humble...</td>\n",
       "      <td>Barack Obama</td>\n",
       "      <td>2009</td>\n",
       "    </tr>\n",
       "    <tr>\n",
       "      <th>8</th>\n",
       "      <td>[thank you  thank you so much, vice president ...</td>\n",
       "      <td>Barack Obama</td>\n",
       "      <td>2013</td>\n",
       "    </tr>\n",
       "    <tr>\n",
       "      <th>9</th>\n",
       "      <td>[chief justice roberts  president carter  pres...</td>\n",
       "      <td>Donald J. Trump</td>\n",
       "      <td>2017</td>\n",
       "    </tr>\n",
       "  </tbody>\n",
       "</table>\n",
       "</div>"
      ],
      "text/plain": [
       "                                             content           president  year\n",
       "0  [senator hatfield  mr  chief justice  mr  pres...       Ronald Reagan  1981\n",
       "1  [senator mathias  chief justice burger  vice p...       Ronald Reagan  1985\n",
       "2  [mr  chief justice  mr  president  vice presid...         George Bush  1989\n",
       "3  [my fellow citizens  today we celebrate the my...  William J. Clinton  1993\n",
       "4  [my fellow citizens  at this last presidential...  William J. Clinton  1997\n",
       "5  [thank you  all  chief justice rehnquist  pres...      George W. Bush  2001\n",
       "6  [vice president cheney  mr  chief justice  pre...      George W. Bush  2005\n",
       "7  [my fellow citizens  i stand here today humble...        Barack Obama  2009\n",
       "8  [thank you  thank you so much, vice president ...        Barack Obama  2013\n",
       "9  [chief justice roberts  president carter  pres...     Donald J. Trump  2017"
      ]
     },
     "execution_count": 7,
     "metadata": {},
     "output_type": "execute_result"
    }
   ],
   "source": [
    "speeches"
   ]
  },
  {
   "cell_type": "markdown",
   "id": "29ad3dde",
   "metadata": {},
   "source": [
    "Build TF-IDF Matrix using scikit-learn TfidfVectorizer"
   ]
  },
  {
   "cell_type": "code",
   "execution_count": 8,
   "id": "d35ee5dc",
   "metadata": {},
   "outputs": [
    {
     "data": {
      "text/plain": [
       "<38x835 sparse matrix of type '<class 'numpy.float64'>'\n",
       "\twith 1728 stored elements in Compressed Sparse Row format>"
      ]
     },
     "execution_count": 8,
     "metadata": {},
     "output_type": "execute_result"
    }
   ],
   "source": [
    "from sklearn.feature_extraction.text import TfidfVectorizer\n",
    "\n",
    "corpus = speeches.content.iloc[0]\n",
    "vectorizer = TfidfVectorizer(analyzer='word', use_idf=True)\n",
    "tfidf_matrix = vectorizer.fit_transform(corpus)\n",
    "tfidf_matrix"
   ]
  },
  {
   "cell_type": "code",
   "execution_count": 9,
   "id": "4cf14fab",
   "metadata": {},
   "outputs": [
    {
     "data": {
      "text/plain": [
       "array([111, 245, 474,  27, 465, 609, 484, 672,  47, 460,  85, 778, 551,\n",
       "       388, 105, 470, 313, 635], dtype=int32)"
      ]
     },
     "execution_count": 9,
     "metadata": {},
     "output_type": "execute_result"
    }
   ],
   "source": [
    "tfidf_matrix[0,:].nonzero()[1]"
   ]
  },
  {
   "cell_type": "code",
   "execution_count": 10,
   "id": "70aea878",
   "metadata": {},
   "outputs": [
    {
     "data": {
      "text/html": [
       "<div>\n",
       "<style scoped>\n",
       "    .dataframe tbody tr th:only-of-type {\n",
       "        vertical-align: middle;\n",
       "    }\n",
       "\n",
       "    .dataframe tbody tr th {\n",
       "        vertical-align: top;\n",
       "    }\n",
       "\n",
       "    .dataframe thead th {\n",
       "        text-align: right;\n",
       "    }\n",
       "</style>\n",
       "<table border=\"1\" class=\"dataframe\">\n",
       "  <thead>\n",
       "    <tr style=\"text-align: right;\">\n",
       "      <th></th>\n",
       "      <th>tf_idf</th>\n",
       "    </tr>\n",
       "  </thead>\n",
       "  <tbody>\n",
       "    <tr>\n",
       "      <th>above</th>\n",
       "      <td>3.970414</td>\n",
       "    </tr>\n",
       "    <tr>\n",
       "      <th>abraham</th>\n",
       "      <td>3.970414</td>\n",
       "    </tr>\n",
       "    <tr>\n",
       "      <th>accept</th>\n",
       "      <td>3.970414</td>\n",
       "    </tr>\n",
       "    <tr>\n",
       "      <th>achieved</th>\n",
       "      <td>3.970414</td>\n",
       "    </tr>\n",
       "    <tr>\n",
       "      <th>achievement</th>\n",
       "      <td>3.970414</td>\n",
       "    </tr>\n",
       "    <tr>\n",
       "      <th>...</th>\n",
       "      <td>...</td>\n",
       "    </tr>\n",
       "    <tr>\n",
       "      <th>yet</th>\n",
       "      <td>3.564949</td>\n",
       "    </tr>\n",
       "    <tr>\n",
       "      <th>you</th>\n",
       "      <td>2.584120</td>\n",
       "    </tr>\n",
       "    <tr>\n",
       "      <th>young</th>\n",
       "      <td>3.564949</td>\n",
       "    </tr>\n",
       "    <tr>\n",
       "      <th>your</th>\n",
       "      <td>3.277267</td>\n",
       "    </tr>\n",
       "    <tr>\n",
       "      <th>yourselves</th>\n",
       "      <td>3.970414</td>\n",
       "    </tr>\n",
       "  </tbody>\n",
       "</table>\n",
       "<p>835 rows × 1 columns</p>\n",
       "</div>"
      ],
      "text/plain": [
       "               tf_idf\n",
       "above        3.970414\n",
       "abraham      3.970414\n",
       "accept       3.970414\n",
       "achieved     3.970414\n",
       "achievement  3.970414\n",
       "...               ...\n",
       "yet          3.564949\n",
       "you          2.584120\n",
       "young        3.564949\n",
       "your         3.277267\n",
       "yourselves   3.970414\n",
       "\n",
       "[835 rows x 1 columns]"
      ]
     },
     "execution_count": 10,
     "metadata": {},
     "output_type": "execute_result"
    }
   ],
   "source": [
    "mapping = pd.DataFrame.from_dict(dict(zip(vectorizer.get_feature_names(), vectorizer.idf_)), \n",
    "                                 orient='index',\n",
    "                                 columns=['tf_idf'])\n",
    "mapping"
   ]
  },
  {
   "cell_type": "code",
   "execution_count": 11,
   "id": "d69e04ee",
   "metadata": {},
   "outputs": [
    {
     "data": {
      "text/plain": [
       "[('above', 3.970414465569701),\n",
       " ('paraphrase', 3.970414465569701),\n",
       " ('opening', 3.970414465569701),\n",
       " ('opportunities', 3.970414465569701),\n",
       " ('order', 3.970414465569701),\n",
       " ('orderly', 3.970414465569701),\n",
       " ('pace', 3.970414465569701),\n",
       " ('paddies', 3.970414465569701),\n",
       " ('paid', 3.970414465569701),\n",
       " ('parallel', 3.970414465569701),\n",
       " ('part', 3.970414465569701),\n",
       " ('omaha', 3.970414465569701),\n",
       " ('party', 3.970414465569701),\n",
       " ('past', 3.970414465569701),\n",
       " ('patriotism', 3.970414465569701),\n",
       " ('patrol', 3.970414465569701),\n",
       " ('perform', 3.970414465569701),\n",
       " ('period', 3.970414465569701),\n",
       " ('personal', 3.970414465569701),\n",
       " ('piled', 3.970414465569701)]"
      ]
     },
     "execution_count": 11,
     "metadata": {},
     "output_type": "execute_result"
    }
   ],
   "source": [
    "top_20 = mapping.tf_idf.sort_values(ascending=False)[0:20]\n",
    "cell_top_20 = []\n",
    "for name in top_20.index:\n",
    "    cell_top_20.append((name, top_20[name]))\n",
    "cell_top_20"
   ]
  },
  {
   "cell_type": "markdown",
   "id": "4e5d4a04",
   "metadata": {},
   "source": [
    "Run for entire corpus of presidential speech documents "
   ]
  },
  {
   "cell_type": "code",
   "execution_count": 12,
   "id": "188b3066",
   "metadata": {},
   "outputs": [],
   "source": [
    "tf_idf_matrix = []\n",
    "\n",
    "for doc in speeches.content:\n",
    "    corpus = doc\n",
    "    vectorizer = TfidfVectorizer(analyzer='word', use_idf=True)\n",
    "    tfidf_matrix = vectorizer.fit_transform(corpus)\n",
    "    tfidf_matrix\n",
    "    mapping = pd.DataFrame.from_dict(dict(zip(vectorizer.get_feature_names(), vectorizer.idf_)), \n",
    "                                 orient='index',\n",
    "                                 columns=['tf_idf'])\n",
    "    top_20 = mapping.tf_idf.sort_values(ascending=False)[0:20]\n",
    "    cell_top_20 = []\n",
    "    for name in top_20.index:\n",
    "        cell_top_20.append((name, top_20[name]))\n",
    "    tf_idf_matrix.append(cell_top_20)"
   ]
  },
  {
   "cell_type": "code",
   "execution_count": 13,
   "id": "3e0a5aeb",
   "metadata": {},
   "outputs": [
    {
     "data": {
      "text/html": [
       "<div>\n",
       "<style scoped>\n",
       "    .dataframe tbody tr th:only-of-type {\n",
       "        vertical-align: middle;\n",
       "    }\n",
       "\n",
       "    .dataframe tbody tr th {\n",
       "        vertical-align: top;\n",
       "    }\n",
       "\n",
       "    .dataframe thead th {\n",
       "        text-align: right;\n",
       "    }\n",
       "</style>\n",
       "<table border=\"1\" class=\"dataframe\">\n",
       "  <thead>\n",
       "    <tr style=\"text-align: right;\">\n",
       "      <th></th>\n",
       "      <th>Reagan_1981</th>\n",
       "      <th>Reagan_1985</th>\n",
       "      <th>Bush_1989</th>\n",
       "      <th>Clinton_1993</th>\n",
       "      <th>Clinton_1997</th>\n",
       "      <th>Bush_2001</th>\n",
       "      <th>Bush_2005</th>\n",
       "      <th>Obama_2009</th>\n",
       "      <th>Obama_2013</th>\n",
       "      <th>Trump_2017</th>\n",
       "    </tr>\n",
       "  </thead>\n",
       "  <tbody>\n",
       "    <tr>\n",
       "      <th>0</th>\n",
       "      <td>(above, 3.970414465569701)</td>\n",
       "      <td>(absent, 4.091042453358316)</td>\n",
       "      <td>(important, 3.70805020110221)</td>\n",
       "      <td>(abiding, 3.2512917986064953)</td>\n",
       "      <td>(abolished, 3.5649493574615367)</td>\n",
       "      <td>(abandonment, 3.772588722239781)</td>\n",
       "      <td>(known, 3.70805020110221)</td>\n",
       "      <td>(abandoned, 3.740840023925201)</td>\n",
       "      <td>(limitless, 3.772588722239781)</td>\n",
       "      <td>(listening, 3.833213344056216)</td>\n",
       "    </tr>\n",
       "    <tr>\n",
       "      <th>1</th>\n",
       "      <td>(paraphrase, 3.970414465569701)</td>\n",
       "      <td>(out, 4.091042453358316)</td>\n",
       "      <td>(money, 3.70805020110221)</td>\n",
       "      <td>(ocean, 3.2512917986064953)</td>\n",
       "      <td>(opened, 3.5649493574615367)</td>\n",
       "      <td>(others, 3.772588722239781)</td>\n",
       "      <td>(never, 3.70805020110221)</td>\n",
       "      <td>(perils, 3.740840023925201)</td>\n",
       "      <td>(hours, 3.772588722239781)</td>\n",
       "      <td>(taxes, 3.833213344056216)</td>\n",
       "    </tr>\n",
       "    <tr>\n",
       "      <th>2</th>\n",
       "      <td>(opening, 3.970414465569701)</td>\n",
       "      <td>(once, 4.091042453358316)</td>\n",
       "      <td>(merely, 3.70805020110221)</td>\n",
       "      <td>(part, 3.2512917986064953)</td>\n",
       "      <td>(obligations, 3.5649493574615367)</td>\n",
       "      <td>(persistent, 3.772588722239781)</td>\n",
       "      <td>(oath, 3.70805020110221)</td>\n",
       "      <td>(pick, 3.740840023925201)</td>\n",
       "      <td>(party, 3.772588722239781)</td>\n",
       "      <td>(love, 3.833213344056216)</td>\n",
       "    </tr>\n",
       "    <tr>\n",
       "      <th>3</th>\n",
       "      <td>(opportunities, 3.970414465569701)</td>\n",
       "      <td>(open, 4.091042453358316)</td>\n",
       "      <td>(michel, 3.70805020110221)</td>\n",
       "      <td>(pain, 3.2512917986064953)</td>\n",
       "      <td>(obsessions, 3.5649493574615367)</td>\n",
       "      <td>(permit, 3.772588722239781)</td>\n",
       "      <td>(objective, 3.70805020110221)</td>\n",
       "      <td>(place, 3.740840023925201)</td>\n",
       "      <td>(passion, 3.772588722239781)</td>\n",
       "      <td>(looking, 3.833213344056216)</td>\n",
       "    </tr>\n",
       "    <tr>\n",
       "      <th>4</th>\n",
       "      <td>(order, 3.970414465569701)</td>\n",
       "      <td>(opportunities, 4.091042453358316)</td>\n",
       "      <td>(mistrust, 3.70805020110221)</td>\n",
       "      <td>(over, 3.2512917986064953)</td>\n",
       "      <td>(off, 3.5649493574615367)</td>\n",
       "      <td>(people, 3.772588722239781)</td>\n",
       "      <td>(obligations, 3.70805020110221)</td>\n",
       "      <td>(places, 3.740840023925201)</td>\n",
       "      <td>(past, 3.772588722239781)</td>\n",
       "      <td>(look, 3.833213344056216)</td>\n",
       "    </tr>\n",
       "    <tr>\n",
       "      <th>5</th>\n",
       "      <td>(orderly, 3.970414465569701)</td>\n",
       "      <td>(oppression, 4.091042453358316)</td>\n",
       "      <td>(mists, 3.70805020110221)</td>\n",
       "      <td>(out, 3.2512917986064953)</td>\n",
       "      <td>(office, 3.5649493574615367)</td>\n",
       "      <td>(peaceful, 3.772588722239781)</td>\n",
       "      <td>(odd, 3.70805020110221)</td>\n",
       "      <td>(plans, 3.740840023925201)</td>\n",
       "      <td>(patriots, 3.772588722239781)</td>\n",
       "      <td>(technologies, 3.833213344056216)</td>\n",
       "    </tr>\n",
       "    <tr>\n",
       "      <th>6</th>\n",
       "      <td>(pace, 3.970414465569701)</td>\n",
       "      <td>(orderly, 4.091042453358316)</td>\n",
       "      <td>(mitchell, 3.70805020110221)</td>\n",
       "      <td>(order, 3.2512917986064953)</td>\n",
       "      <td>(onto, 3.5649493574615367)</td>\n",
       "      <td>(peace, 3.772588722239781)</td>\n",
       "      <td>(only, 3.70805020110221)</td>\n",
       "      <td>(please, 3.740840023925201)</td>\n",
       "      <td>(peaceful, 3.772588722239781)</td>\n",
       "      <td>(tell, 3.833213344056216)</td>\n",
       "    </tr>\n",
       "    <tr>\n",
       "      <th>7</th>\n",
       "      <td>(paddies, 3.970414465569701)</td>\n",
       "      <td>(origin, 4.091042453358316)</td>\n",
       "      <td>(trumpets, 3.70805020110221)</td>\n",
       "      <td>(opportunities, 3.2512917986064953)</td>\n",
       "      <td>(open, 3.5649493574615367)</td>\n",
       "      <td>(pastor, 3.772588722239781)</td>\n",
       "      <td>(oppressed, 3.70805020110221)</td>\n",
       "      <td>(pleasures, 3.740840023925201)</td>\n",
       "      <td>(peacefully, 3.772588722239781)</td>\n",
       "      <td>(living, 3.833213344056216)</td>\n",
       "    </tr>\n",
       "    <tr>\n",
       "      <th>8</th>\n",
       "      <td>(paid, 3.970414465569701)</td>\n",
       "      <td>(others, 4.091042453358316)</td>\n",
       "      <td>(truly, 3.70805020110221)</td>\n",
       "      <td>(one, 3.2512917986064953)</td>\n",
       "      <td>(opportunities, 3.5649493574615367)</td>\n",
       "      <td>(passing, 3.772588722239781)</td>\n",
       "      <td>(oppressors, 3.70805020110221)</td>\n",
       "      <td>(pledge, 3.740840023925201)</td>\n",
       "      <td>(peaks, 3.772588722239781)</td>\n",
       "      <td>(lives, 3.833213344056216)</td>\n",
       "    </tr>\n",
       "    <tr>\n",
       "      <th>9</th>\n",
       "      <td>(parallel, 3.970414465569701)</td>\n",
       "      <td>(ours, 4.091042453358316)</td>\n",
       "      <td>(member, 3.70805020110221)</td>\n",
       "      <td>(oldest, 3.2512917986064953)</td>\n",
       "      <td>(nuclear, 3.5649493574615367)</td>\n",
       "      <td>(passed, 3.772588722239781)</td>\n",
       "      <td>(order, 3.70805020110221)</td>\n",
       "      <td>(plenty, 3.740840023925201)</td>\n",
       "      <td>(perpetual, 3.772588722239781)</td>\n",
       "      <td>(live, 3.833213344056216)</td>\n",
       "    </tr>\n",
       "    <tr>\n",
       "      <th>10</th>\n",
       "      <td>(part, 3.970414465569701)</td>\n",
       "      <td>(overwhelm, 4.091042453358316)</td>\n",
       "      <td>(most, 3.70805020110221)</td>\n",
       "      <td>(older, 3.2512917986064953)</td>\n",
       "      <td>(other, 3.5649493574615367)</td>\n",
       "      <td>(pain, 3.772588722239781)</td>\n",
       "      <td>(outlaw, 3.70805020110221)</td>\n",
       "      <td>(plowed, 3.740840023925201)</td>\n",
       "      <td>(personal, 3.772588722239781)</td>\n",
       "      <td>(little, 3.833213344056216)</td>\n",
       "    </tr>\n",
       "    <tr>\n",
       "      <th>11</th>\n",
       "      <td>(omaha, 3.970414465569701)</td>\n",
       "      <td>(planter, 4.091042453358316)</td>\n",
       "      <td>(motives, 3.70805020110221)</td>\n",
       "      <td>(old, 3.2512917986064953)</td>\n",
       "      <td>(others, 3.5649493574615367)</td>\n",
       "      <td>(page, 3.772588722239781)</td>\n",
       "      <td>(outrage, 3.70805020110221)</td>\n",
       "      <td>(political, 3.740840023925201)</td>\n",
       "      <td>(philadelphia, 3.772588722239781)</td>\n",
       "      <td>(accept, 3.833213344056216)</td>\n",
       "    </tr>\n",
       "    <tr>\n",
       "      <th>12</th>\n",
       "      <td>(party, 3.970414465569701)</td>\n",
       "      <td>(own, 4.091042453358316)</td>\n",
       "      <td>(move, 3.70805020110221)</td>\n",
       "      <td>(often, 3.2512917986064953)</td>\n",
       "      <td>(outlines, 3.5649493574615367)</td>\n",
       "      <td>(over, 3.772588722239781)</td>\n",
       "      <td>(ownership, 3.70805020110221)</td>\n",
       "      <td>(politics, 3.740840023925201)</td>\n",
       "      <td>(pioneers, 3.772588722239781)</td>\n",
       "      <td>(likes, 3.833213344056216)</td>\n",
       "    </tr>\n",
       "    <tr>\n",
       "      <th>13</th>\n",
       "      <td>(past, 3.970414465569701)</td>\n",
       "      <td>(paces, 4.091042453358316)</td>\n",
       "      <td>(moves, 3.70805020110221)</td>\n",
       "      <td>(office, 3.2512917986064953)</td>\n",
       "      <td>(overcome, 3.5649493574615367)</td>\n",
       "      <td>(out, 3.772588722239781)</td>\n",
       "      <td>(participation, 3.70805020110221)</td>\n",
       "      <td>(poor, 3.740840023925201)</td>\n",
       "      <td>(planet, 3.772588722239781)</td>\n",
       "      <td>(tells, 3.833213344056216)</td>\n",
       "    </tr>\n",
       "    <tr>\n",
       "      <th>14</th>\n",
       "      <td>(patriotism, 3.970414465569701)</td>\n",
       "      <td>(part, 4.091042453358316)</td>\n",
       "      <td>(moving, 3.70805020110221)</td>\n",
       "      <td>(offer, 3.2512917986064953)</td>\n",
       "      <td>(parents, 3.5649493574615367)</td>\n",
       "      <td>(order, 3.772588722239781)</td>\n",
       "      <td>(party, 3.70805020110221)</td>\n",
       "      <td>(possessions, 3.740840023925201)</td>\n",
       "      <td>(play, 3.772588722239781)</td>\n",
       "      <td>(lift, 3.833213344056216)</td>\n",
       "    </tr>\n",
       "    <tr>\n",
       "      <th>15</th>\n",
       "      <td>(patrol, 3.970414465569701)</td>\n",
       "      <td>(parties, 4.091042453358316)</td>\n",
       "      <td>(triumph, 3.70805020110221)</td>\n",
       "      <td>(oath, 3.2512917986064953)</td>\n",
       "      <td>(part, 3.5649493574615367)</td>\n",
       "      <td>(remains, 3.772588722239781)</td>\n",
       "      <td>(patience, 3.70805020110221)</td>\n",
       "      <td>(powerful, 3.740840023925201)</td>\n",
       "      <td>(pledge, 3.772588722239781)</td>\n",
       "      <td>(tens, 3.833213344056216)</td>\n",
       "    </tr>\n",
       "    <tr>\n",
       "      <th>16</th>\n",
       "      <td>(perform, 3.970414465569701)</td>\n",
       "      <td>(party, 4.091042453358316)</td>\n",
       "      <td>(try, 3.70805020110221)</td>\n",
       "      <td>(pays, 3.2512917986064953)</td>\n",
       "      <td>(numbers, 3.5649493574615367)</td>\n",
       "      <td>(options, 3.772588722239781)</td>\n",
       "      <td>(peace, 3.70805020110221)</td>\n",
       "      <td>(precious, 3.740840023925201)</td>\n",
       "      <td>(politics, 3.772588722239781)</td>\n",
       "      <td>(terrorism, 3.833213344056216)</td>\n",
       "    </tr>\n",
       "    <tr>\n",
       "      <th>17</th>\n",
       "      <td>(period, 3.970414465569701)</td>\n",
       "      <td>(pass, 4.091042453358316)</td>\n",
       "      <td>(meet, 3.70805020110221)</td>\n",
       "      <td>(numbers, 3.2512917986064953)</td>\n",
       "      <td>(nothing, 3.5649493574615367)</td>\n",
       "      <td>(opportunity, 3.772588722239781)</td>\n",
       "      <td>(new, 3.70805020110221)</td>\n",
       "      <td>(precisely, 3.740840023925201)</td>\n",
       "      <td>(poor, 3.772588722239781)</td>\n",
       "      <td>(themselves, 3.833213344056216)</td>\n",
       "    </tr>\n",
       "    <tr>\n",
       "      <th>18</th>\n",
       "      <td>(personal, 3.970414465569701)</td>\n",
       "      <td>(passing, 4.091042453358316)</td>\n",
       "      <td>(voices, 3.70805020110221)</td>\n",
       "      <td>(nor, 3.2512917986064953)</td>\n",
       "      <td>(partisanship, 3.5649493574615367)</td>\n",
       "      <td>(onward, 3.772588722239781)</td>\n",
       "      <td>(neighbor, 3.70805020110221)</td>\n",
       "      <td>(prefer, 3.740840023925201)</td>\n",
       "      <td>(possess, 3.772588722239781)</td>\n",
       "      <td>(leaves, 3.833213344056216)</td>\n",
       "    </tr>\n",
       "    <tr>\n",
       "      <th>19</th>\n",
       "      <td>(piled, 3.970414465569701)</td>\n",
       "      <td>(paying, 4.091042453358316)</td>\n",
       "      <td>(turning, 3.70805020110221)</td>\n",
       "      <td>(news, 3.2512917986064953)</td>\n",
       "      <td>(mystical, 3.5649493574615367)</td>\n",
       "      <td>(one, 3.772588722239781)</td>\n",
       "      <td>(reform, 3.70805020110221)</td>\n",
       "      <td>(prepare, 3.740840023925201)</td>\n",
       "      <td>(partial, 3.772588722239781)</td>\n",
       "      <td>(lead, 3.833213344056216)</td>\n",
       "    </tr>\n",
       "  </tbody>\n",
       "</table>\n",
       "</div>"
      ],
      "text/plain": [
       "                           Reagan_1981                         Reagan_1985  \\\n",
       "0           (above, 3.970414465569701)         (absent, 4.091042453358316)   \n",
       "1      (paraphrase, 3.970414465569701)            (out, 4.091042453358316)   \n",
       "2         (opening, 3.970414465569701)           (once, 4.091042453358316)   \n",
       "3   (opportunities, 3.970414465569701)           (open, 4.091042453358316)   \n",
       "4           (order, 3.970414465569701)  (opportunities, 4.091042453358316)   \n",
       "5         (orderly, 3.970414465569701)     (oppression, 4.091042453358316)   \n",
       "6            (pace, 3.970414465569701)        (orderly, 4.091042453358316)   \n",
       "7         (paddies, 3.970414465569701)         (origin, 4.091042453358316)   \n",
       "8            (paid, 3.970414465569701)         (others, 4.091042453358316)   \n",
       "9        (parallel, 3.970414465569701)           (ours, 4.091042453358316)   \n",
       "10           (part, 3.970414465569701)      (overwhelm, 4.091042453358316)   \n",
       "11          (omaha, 3.970414465569701)        (planter, 4.091042453358316)   \n",
       "12          (party, 3.970414465569701)            (own, 4.091042453358316)   \n",
       "13           (past, 3.970414465569701)          (paces, 4.091042453358316)   \n",
       "14     (patriotism, 3.970414465569701)           (part, 4.091042453358316)   \n",
       "15         (patrol, 3.970414465569701)        (parties, 4.091042453358316)   \n",
       "16        (perform, 3.970414465569701)          (party, 4.091042453358316)   \n",
       "17         (period, 3.970414465569701)           (pass, 4.091042453358316)   \n",
       "18       (personal, 3.970414465569701)        (passing, 4.091042453358316)   \n",
       "19          (piled, 3.970414465569701)         (paying, 4.091042453358316)   \n",
       "\n",
       "                        Bush_1989                         Clinton_1993  \\\n",
       "0   (important, 3.70805020110221)        (abiding, 3.2512917986064953)   \n",
       "1       (money, 3.70805020110221)          (ocean, 3.2512917986064953)   \n",
       "2      (merely, 3.70805020110221)           (part, 3.2512917986064953)   \n",
       "3      (michel, 3.70805020110221)           (pain, 3.2512917986064953)   \n",
       "4    (mistrust, 3.70805020110221)           (over, 3.2512917986064953)   \n",
       "5       (mists, 3.70805020110221)            (out, 3.2512917986064953)   \n",
       "6    (mitchell, 3.70805020110221)          (order, 3.2512917986064953)   \n",
       "7    (trumpets, 3.70805020110221)  (opportunities, 3.2512917986064953)   \n",
       "8       (truly, 3.70805020110221)            (one, 3.2512917986064953)   \n",
       "9      (member, 3.70805020110221)         (oldest, 3.2512917986064953)   \n",
       "10       (most, 3.70805020110221)          (older, 3.2512917986064953)   \n",
       "11    (motives, 3.70805020110221)            (old, 3.2512917986064953)   \n",
       "12       (move, 3.70805020110221)          (often, 3.2512917986064953)   \n",
       "13      (moves, 3.70805020110221)         (office, 3.2512917986064953)   \n",
       "14     (moving, 3.70805020110221)          (offer, 3.2512917986064953)   \n",
       "15    (triumph, 3.70805020110221)           (oath, 3.2512917986064953)   \n",
       "16        (try, 3.70805020110221)           (pays, 3.2512917986064953)   \n",
       "17       (meet, 3.70805020110221)        (numbers, 3.2512917986064953)   \n",
       "18     (voices, 3.70805020110221)            (nor, 3.2512917986064953)   \n",
       "19    (turning, 3.70805020110221)           (news, 3.2512917986064953)   \n",
       "\n",
       "                           Clinton_1997                         Bush_2001  \\\n",
       "0       (abolished, 3.5649493574615367)  (abandonment, 3.772588722239781)   \n",
       "1          (opened, 3.5649493574615367)       (others, 3.772588722239781)   \n",
       "2     (obligations, 3.5649493574615367)   (persistent, 3.772588722239781)   \n",
       "3      (obsessions, 3.5649493574615367)       (permit, 3.772588722239781)   \n",
       "4             (off, 3.5649493574615367)       (people, 3.772588722239781)   \n",
       "5          (office, 3.5649493574615367)     (peaceful, 3.772588722239781)   \n",
       "6            (onto, 3.5649493574615367)        (peace, 3.772588722239781)   \n",
       "7            (open, 3.5649493574615367)       (pastor, 3.772588722239781)   \n",
       "8   (opportunities, 3.5649493574615367)      (passing, 3.772588722239781)   \n",
       "9         (nuclear, 3.5649493574615367)       (passed, 3.772588722239781)   \n",
       "10          (other, 3.5649493574615367)         (pain, 3.772588722239781)   \n",
       "11         (others, 3.5649493574615367)         (page, 3.772588722239781)   \n",
       "12       (outlines, 3.5649493574615367)         (over, 3.772588722239781)   \n",
       "13       (overcome, 3.5649493574615367)          (out, 3.772588722239781)   \n",
       "14        (parents, 3.5649493574615367)        (order, 3.772588722239781)   \n",
       "15           (part, 3.5649493574615367)      (remains, 3.772588722239781)   \n",
       "16        (numbers, 3.5649493574615367)      (options, 3.772588722239781)   \n",
       "17        (nothing, 3.5649493574615367)  (opportunity, 3.772588722239781)   \n",
       "18   (partisanship, 3.5649493574615367)       (onward, 3.772588722239781)   \n",
       "19       (mystical, 3.5649493574615367)          (one, 3.772588722239781)   \n",
       "\n",
       "                            Bush_2005                        Obama_2009  \\\n",
       "0           (known, 3.70805020110221)    (abandoned, 3.740840023925201)   \n",
       "1           (never, 3.70805020110221)       (perils, 3.740840023925201)   \n",
       "2            (oath, 3.70805020110221)         (pick, 3.740840023925201)   \n",
       "3       (objective, 3.70805020110221)        (place, 3.740840023925201)   \n",
       "4     (obligations, 3.70805020110221)       (places, 3.740840023925201)   \n",
       "5             (odd, 3.70805020110221)        (plans, 3.740840023925201)   \n",
       "6            (only, 3.70805020110221)       (please, 3.740840023925201)   \n",
       "7       (oppressed, 3.70805020110221)    (pleasures, 3.740840023925201)   \n",
       "8      (oppressors, 3.70805020110221)       (pledge, 3.740840023925201)   \n",
       "9           (order, 3.70805020110221)       (plenty, 3.740840023925201)   \n",
       "10         (outlaw, 3.70805020110221)       (plowed, 3.740840023925201)   \n",
       "11        (outrage, 3.70805020110221)    (political, 3.740840023925201)   \n",
       "12      (ownership, 3.70805020110221)     (politics, 3.740840023925201)   \n",
       "13  (participation, 3.70805020110221)         (poor, 3.740840023925201)   \n",
       "14          (party, 3.70805020110221)  (possessions, 3.740840023925201)   \n",
       "15       (patience, 3.70805020110221)     (powerful, 3.740840023925201)   \n",
       "16          (peace, 3.70805020110221)     (precious, 3.740840023925201)   \n",
       "17            (new, 3.70805020110221)    (precisely, 3.740840023925201)   \n",
       "18       (neighbor, 3.70805020110221)       (prefer, 3.740840023925201)   \n",
       "19         (reform, 3.70805020110221)      (prepare, 3.740840023925201)   \n",
       "\n",
       "                           Obama_2013                         Trump_2017  \n",
       "0      (limitless, 3.772588722239781)     (listening, 3.833213344056216)  \n",
       "1          (hours, 3.772588722239781)         (taxes, 3.833213344056216)  \n",
       "2          (party, 3.772588722239781)          (love, 3.833213344056216)  \n",
       "3        (passion, 3.772588722239781)       (looking, 3.833213344056216)  \n",
       "4           (past, 3.772588722239781)          (look, 3.833213344056216)  \n",
       "5       (patriots, 3.772588722239781)  (technologies, 3.833213344056216)  \n",
       "6       (peaceful, 3.772588722239781)          (tell, 3.833213344056216)  \n",
       "7     (peacefully, 3.772588722239781)        (living, 3.833213344056216)  \n",
       "8          (peaks, 3.772588722239781)         (lives, 3.833213344056216)  \n",
       "9      (perpetual, 3.772588722239781)          (live, 3.833213344056216)  \n",
       "10      (personal, 3.772588722239781)        (little, 3.833213344056216)  \n",
       "11  (philadelphia, 3.772588722239781)        (accept, 3.833213344056216)  \n",
       "12      (pioneers, 3.772588722239781)         (likes, 3.833213344056216)  \n",
       "13        (planet, 3.772588722239781)         (tells, 3.833213344056216)  \n",
       "14          (play, 3.772588722239781)          (lift, 3.833213344056216)  \n",
       "15        (pledge, 3.772588722239781)          (tens, 3.833213344056216)  \n",
       "16      (politics, 3.772588722239781)     (terrorism, 3.833213344056216)  \n",
       "17          (poor, 3.772588722239781)    (themselves, 3.833213344056216)  \n",
       "18       (possess, 3.772588722239781)        (leaves, 3.833213344056216)  \n",
       "19       (partial, 3.772588722239781)          (lead, 3.833213344056216)  "
      ]
     },
     "execution_count": 13,
     "metadata": {},
     "output_type": "execute_result"
    }
   ],
   "source": [
    "cols = [str(speeches.iloc[row].president.split()[-1]) + '_' + str(speeches.iloc[row].year) for row in range(len(speeches))]\n",
    "cols = dict(zip(range(10), cols))\n",
    "tf_idf_matrix = pd.DataFrame(tf_idf_matrix).transpose()\n",
    "tf_idf_matrix = tf_idf_matrix.rename(columns=cols)\n",
    "tf_idf_matrix"
   ]
  },
  {
   "cell_type": "markdown",
   "id": "420e1504",
   "metadata": {},
   "source": [
    "## Question 1: Retail Data Analysis"
   ]
  },
  {
   "cell_type": "code",
   "execution_count": 14,
   "id": "88f5f4b7",
   "metadata": {},
   "outputs": [
    {
     "data": {
      "text/html": [
       "<div>\n",
       "<style scoped>\n",
       "    .dataframe tbody tr th:only-of-type {\n",
       "        vertical-align: middle;\n",
       "    }\n",
       "\n",
       "    .dataframe tbody tr th {\n",
       "        vertical-align: top;\n",
       "    }\n",
       "\n",
       "    .dataframe thead th {\n",
       "        text-align: right;\n",
       "    }\n",
       "</style>\n",
       "<table border=\"1\" class=\"dataframe\">\n",
       "  <thead>\n",
       "    <tr style=\"text-align: right;\">\n",
       "      <th></th>\n",
       "      <th>Invoice</th>\n",
       "      <th>StockCode</th>\n",
       "      <th>Description</th>\n",
       "      <th>Quantity</th>\n",
       "      <th>InvoiceDate</th>\n",
       "      <th>Price</th>\n",
       "      <th>Customer ID</th>\n",
       "      <th>Country</th>\n",
       "    </tr>\n",
       "  </thead>\n",
       "  <tbody>\n",
       "    <tr>\n",
       "      <th>0</th>\n",
       "      <td>489434</td>\n",
       "      <td>85048</td>\n",
       "      <td>15CM CHRISTMAS GLASS BALL 20 LIGHTS</td>\n",
       "      <td>12</td>\n",
       "      <td>12/1/2009 7:45</td>\n",
       "      <td>6.95</td>\n",
       "      <td>13085.0</td>\n",
       "      <td>United Kingdom</td>\n",
       "    </tr>\n",
       "    <tr>\n",
       "      <th>1</th>\n",
       "      <td>489434</td>\n",
       "      <td>79323P</td>\n",
       "      <td>PINK CHERRY LIGHTS</td>\n",
       "      <td>12</td>\n",
       "      <td>12/1/2009 7:45</td>\n",
       "      <td>6.75</td>\n",
       "      <td>13085.0</td>\n",
       "      <td>United Kingdom</td>\n",
       "    </tr>\n",
       "    <tr>\n",
       "      <th>2</th>\n",
       "      <td>489434</td>\n",
       "      <td>79323W</td>\n",
       "      <td>WHITE CHERRY LIGHTS</td>\n",
       "      <td>12</td>\n",
       "      <td>12/1/2009 7:45</td>\n",
       "      <td>6.75</td>\n",
       "      <td>13085.0</td>\n",
       "      <td>United Kingdom</td>\n",
       "    </tr>\n",
       "    <tr>\n",
       "      <th>3</th>\n",
       "      <td>489434</td>\n",
       "      <td>22041</td>\n",
       "      <td>RECORD FRAME 7\" SINGLE SIZE</td>\n",
       "      <td>48</td>\n",
       "      <td>12/1/2009 7:45</td>\n",
       "      <td>2.10</td>\n",
       "      <td>13085.0</td>\n",
       "      <td>United Kingdom</td>\n",
       "    </tr>\n",
       "    <tr>\n",
       "      <th>4</th>\n",
       "      <td>489434</td>\n",
       "      <td>21232</td>\n",
       "      <td>STRAWBERRY CERAMIC TRINKET BOX</td>\n",
       "      <td>24</td>\n",
       "      <td>12/1/2009 7:45</td>\n",
       "      <td>1.25</td>\n",
       "      <td>13085.0</td>\n",
       "      <td>United Kingdom</td>\n",
       "    </tr>\n",
       "    <tr>\n",
       "      <th>...</th>\n",
       "      <td>...</td>\n",
       "      <td>...</td>\n",
       "      <td>...</td>\n",
       "      <td>...</td>\n",
       "      <td>...</td>\n",
       "      <td>...</td>\n",
       "      <td>...</td>\n",
       "      <td>...</td>\n",
       "    </tr>\n",
       "    <tr>\n",
       "      <th>1067366</th>\n",
       "      <td>581587</td>\n",
       "      <td>22899</td>\n",
       "      <td>CHILDREN'S APRON DOLLY GIRL</td>\n",
       "      <td>6</td>\n",
       "      <td>12/9/2011 12:50</td>\n",
       "      <td>2.10</td>\n",
       "      <td>12680.0</td>\n",
       "      <td>France</td>\n",
       "    </tr>\n",
       "    <tr>\n",
       "      <th>1067367</th>\n",
       "      <td>581587</td>\n",
       "      <td>23254</td>\n",
       "      <td>CHILDRENS CUTLERY DOLLY GIRL</td>\n",
       "      <td>4</td>\n",
       "      <td>12/9/2011 12:50</td>\n",
       "      <td>4.15</td>\n",
       "      <td>12680.0</td>\n",
       "      <td>France</td>\n",
       "    </tr>\n",
       "    <tr>\n",
       "      <th>1067368</th>\n",
       "      <td>581587</td>\n",
       "      <td>23255</td>\n",
       "      <td>CHILDRENS CUTLERY CIRCUS PARADE</td>\n",
       "      <td>4</td>\n",
       "      <td>12/9/2011 12:50</td>\n",
       "      <td>4.15</td>\n",
       "      <td>12680.0</td>\n",
       "      <td>France</td>\n",
       "    </tr>\n",
       "    <tr>\n",
       "      <th>1067369</th>\n",
       "      <td>581587</td>\n",
       "      <td>22138</td>\n",
       "      <td>BAKING SET 9 PIECE RETROSPOT</td>\n",
       "      <td>3</td>\n",
       "      <td>12/9/2011 12:50</td>\n",
       "      <td>4.95</td>\n",
       "      <td>12680.0</td>\n",
       "      <td>France</td>\n",
       "    </tr>\n",
       "    <tr>\n",
       "      <th>1067370</th>\n",
       "      <td>581587</td>\n",
       "      <td>POST</td>\n",
       "      <td>POSTAGE</td>\n",
       "      <td>1</td>\n",
       "      <td>12/9/2011 12:50</td>\n",
       "      <td>18.00</td>\n",
       "      <td>12680.0</td>\n",
       "      <td>France</td>\n",
       "    </tr>\n",
       "  </tbody>\n",
       "</table>\n",
       "<p>1067371 rows × 8 columns</p>\n",
       "</div>"
      ],
      "text/plain": [
       "        Invoice StockCode                          Description  Quantity  \\\n",
       "0        489434     85048  15CM CHRISTMAS GLASS BALL 20 LIGHTS        12   \n",
       "1        489434    79323P                   PINK CHERRY LIGHTS        12   \n",
       "2        489434    79323W                  WHITE CHERRY LIGHTS        12   \n",
       "3        489434     22041         RECORD FRAME 7\" SINGLE SIZE         48   \n",
       "4        489434     21232       STRAWBERRY CERAMIC TRINKET BOX        24   \n",
       "...         ...       ...                                  ...       ...   \n",
       "1067366  581587     22899         CHILDREN'S APRON DOLLY GIRL          6   \n",
       "1067367  581587     23254        CHILDRENS CUTLERY DOLLY GIRL          4   \n",
       "1067368  581587     23255      CHILDRENS CUTLERY CIRCUS PARADE         4   \n",
       "1067369  581587     22138        BAKING SET 9 PIECE RETROSPOT          3   \n",
       "1067370  581587      POST                              POSTAGE         1   \n",
       "\n",
       "             InvoiceDate  Price  Customer ID         Country  \n",
       "0         12/1/2009 7:45   6.95      13085.0  United Kingdom  \n",
       "1         12/1/2009 7:45   6.75      13085.0  United Kingdom  \n",
       "2         12/1/2009 7:45   6.75      13085.0  United Kingdom  \n",
       "3         12/1/2009 7:45   2.10      13085.0  United Kingdom  \n",
       "4         12/1/2009 7:45   1.25      13085.0  United Kingdom  \n",
       "...                  ...    ...          ...             ...  \n",
       "1067366  12/9/2011 12:50   2.10      12680.0          France  \n",
       "1067367  12/9/2011 12:50   4.15      12680.0          France  \n",
       "1067368  12/9/2011 12:50   4.15      12680.0          France  \n",
       "1067369  12/9/2011 12:50   4.95      12680.0          France  \n",
       "1067370  12/9/2011 12:50  18.00      12680.0          France  \n",
       "\n",
       "[1067371 rows x 8 columns]"
      ]
     },
     "execution_count": 14,
     "metadata": {},
     "output_type": "execute_result"
    }
   ],
   "source": [
    "online_retail = pd.read_csv(\"online-retail-online_retail_II.csv\")\n",
    "online_retail"
   ]
  },
  {
   "cell_type": "code",
   "execution_count": 15,
   "id": "5ef755ac",
   "metadata": {},
   "outputs": [
    {
     "name": "stderr",
     "output_type": "stream",
     "text": [
      "21/12/29 23:03:34 WARN NativeCodeLoader: Unable to load native-hadoop library for your platform... using builtin-java classes where applicable\n",
      "Using Spark's default log4j profile: org/apache/spark/log4j-defaults.properties\n",
      "Setting default log level to \"WARN\".\n",
      "To adjust logging level use sc.setLogLevel(newLevel). For SparkR, use setLogLevel(newLevel).\n"
     ]
    }
   ],
   "source": [
    "from pyspark.sql import SparkSession\n",
    "\n",
    "spark = SparkSession \\\n",
    "    .builder \\\n",
    "    .appName(\"Online Retail\") \\\n",
    "    .getOrCreate()"
   ]
  },
  {
   "cell_type": "code",
   "execution_count": 16,
   "id": "dd201521",
   "metadata": {},
   "outputs": [
    {
     "name": "stderr",
     "output_type": "stream",
     "text": [
      "                                                                                \r"
     ]
    },
    {
     "name": "stdout",
     "output_type": "stream",
     "text": [
      "+-------+---------+--------------------+--------+--------------+-----+-----------+--------------+\n",
      "|Invoice|StockCode|         Description|Quantity|   InvoiceDate|Price|Customer ID|       Country|\n",
      "+-------+---------+--------------------+--------+--------------+-----+-----------+--------------+\n",
      "| 489434|    85048|15CM CHRISTMAS GL...|      12|12/1/2009 7:45| 6.95|      13085|United Kingdom|\n",
      "| 489434|   79323P|  PINK CHERRY LIGHTS|      12|12/1/2009 7:45| 6.75|      13085|United Kingdom|\n",
      "| 489434|   79323W| WHITE CHERRY LIGHTS|      12|12/1/2009 7:45| 6.75|      13085|United Kingdom|\n",
      "| 489434|    22041|\"RECORD FRAME 7\"\"...|      48|12/1/2009 7:45|  2.1|      13085|United Kingdom|\n",
      "| 489434|    21232|STRAWBERRY CERAMI...|      24|12/1/2009 7:45| 1.25|      13085|United Kingdom|\n",
      "| 489434|    22064|PINK DOUGHNUT TRI...|      24|12/1/2009 7:45| 1.65|      13085|United Kingdom|\n",
      "| 489434|    21871| SAVE THE PLANET MUG|      24|12/1/2009 7:45| 1.25|      13085|United Kingdom|\n",
      "| 489434|    21523|FANCY FONT HOME S...|      10|12/1/2009 7:45| 5.95|      13085|United Kingdom|\n",
      "| 489435|    22350|           CAT BOWL |      12|12/1/2009 7:46| 2.55|      13085|United Kingdom|\n",
      "| 489435|    22349|DOG BOWL , CHASIN...|      12|12/1/2009 7:46| 3.75|      13085|United Kingdom|\n",
      "| 489435|    22195|HEART MEASURING S...|      24|12/1/2009 7:46| 1.65|      13085|United Kingdom|\n",
      "| 489435|    22353|LUNCHBOX WITH CUT...|      12|12/1/2009 7:46| 2.55|      13085|United Kingdom|\n",
      "| 489436|   48173C|DOOR MAT BLACK FL...|      10|12/1/2009 9:06| 5.95|      13078|United Kingdom|\n",
      "| 489436|    21755|LOVE BUILDING BLO...|      18|12/1/2009 9:06| 5.45|      13078|United Kingdom|\n",
      "| 489436|    21754|HOME BUILDING BLO...|       3|12/1/2009 9:06| 5.95|      13078|United Kingdom|\n",
      "| 489436|    84879|ASSORTED COLOUR B...|      16|12/1/2009 9:06| 1.69|      13078|United Kingdom|\n",
      "| 489436|    22119| PEACE WOODEN BLO...|       3|12/1/2009 9:06| 6.95|      13078|United Kingdom|\n",
      "| 489436|    22142|CHRISTMAS CRAFT W...|      12|12/1/2009 9:06| 1.45|      13078|United Kingdom|\n",
      "| 489436|    22296|HEART IVORY TRELL...|      12|12/1/2009 9:06| 1.65|      13078|United Kingdom|\n",
      "| 489436|    22295|HEART FILIGREE DO...|      12|12/1/2009 9:06| 1.65|      13078|United Kingdom|\n",
      "+-------+---------+--------------------+--------+--------------+-----+-----------+--------------+\n",
      "only showing top 20 rows\n",
      "\n"
     ]
    }
   ],
   "source": [
    "path = \"online-retail-online_retail_II.csv\"\n",
    "\n",
    "df = spark.read.option(\"header\", True).csv(path, inferSchema=True)\n",
    "df.show()"
   ]
  },
  {
   "cell_type": "code",
   "execution_count": 17,
   "id": "2dfff43c",
   "metadata": {},
   "outputs": [
    {
     "data": {
      "text/plain": [
       "[('Invoice', 'string'),\n",
       " ('StockCode', 'string'),\n",
       " ('Description', 'string'),\n",
       " ('Quantity', 'int'),\n",
       " ('InvoiceDate', 'string'),\n",
       " ('Price', 'double'),\n",
       " ('Customer ID', 'int'),\n",
       " ('Country', 'string')]"
      ]
     },
     "execution_count": 17,
     "metadata": {},
     "output_type": "execute_result"
    }
   ],
   "source": [
    "df.dtypes"
   ]
  },
  {
   "cell_type": "markdown",
   "id": "34adab5d",
   "metadata": {},
   "source": [
    "Question: Loading the data into a Dataframe and removing junk records. How many records were removed by doing so?\n",
    "\n",
    "Response: **When removing junk records, we have found 269486 records to remove.**"
   ]
  },
  {
   "cell_type": "code",
   "execution_count": 18,
   "id": "3596aa35",
   "metadata": {},
   "outputs": [
    {
     "name": "stderr",
     "output_type": "stream",
     "text": [
      "                                                                                \r"
     ]
    },
    {
     "data": {
      "text/plain": [
       "269486"
      ]
     },
     "execution_count": 18,
     "metadata": {},
     "output_type": "execute_result"
    }
   ],
   "source": [
    "df_clean = df.dropna()\n",
    "df_clean = df_clean.dropDuplicates()\n",
    "num_empty_rows = df.count() - df_clean.count()\n",
    "num_empty_rows"
   ]
  },
  {
   "cell_type": "markdown",
   "id": "732f1277",
   "metadata": {},
   "source": [
    "Dealing with calculation of monetary value"
   ]
  },
  {
   "cell_type": "code",
   "execution_count": 19,
   "id": "b831ea5e",
   "metadata": {},
   "outputs": [
    {
     "name": "stderr",
     "output_type": "stream",
     "text": [
      "[Stage 8:==============>                                            (1 + 3) / 4]\r"
     ]
    },
    {
     "name": "stdout",
     "output_type": "stream",
     "text": [
      "+-------+---------+--------------------+--------+---------------+-----+-----------+--------------+\n",
      "|Invoice|StockCode|         Description|Quantity|    InvoiceDate|Price|Customer ID|       Country|\n",
      "+-------+---------+--------------------+--------+---------------+-----+-----------+--------------+\n",
      "| 489514|    21791|VINTAGE HEADS AND...|      72|12/1/2009 11:21| 1.06|      15311|United Kingdom|\n",
      "| 489520|   72739B|WHITE CHOCOLATE S...|      12|12/1/2009 11:41| 1.25|      14911|          EIRE|\n",
      "| 489522|    22315|200 RED + WHITE B...|       1|12/1/2009 11:45| 1.25|      15998|United Kingdom|\n",
      "| 489536|    21611|SET OF 12 LILY BO...|       2|12/1/2009 12:13| 2.95|      16393|United Kingdom|\n",
      "| 489561|    21816|CHRISTMAS TREE T-...|       6|12/1/2009 12:57| 1.45|      14654|United Kingdom|\n",
      "| 489562|    35071|ASSORTED SANTA CH...|       1|12/1/2009 13:07| 0.85|      17998|United Kingdom|\n",
      "| 489576|    22152|PLACE SETTING WHI...|      24|12/1/2009 13:38| 0.42|      15984|United Kingdom|\n",
      "| 489599|    21239|    PINK  SPOTTY CUP|      16|12/1/2009 14:40| 0.85|      12758|      Portugal|\n",
      "| 489658|  79323LP|LIGHT PINK CHERRY...|       6|12/1/2009 17:31| 6.75|      15485|United Kingdom|\n",
      "| 489679|    22086|PAPER CHAIN KIT 5...|       6|12/2/2009 10:00| 2.95|      16163|United Kingdom|\n",
      "| 489681|   85226C|BLUE PULL BACK RA...|      11|12/2/2009 10:02| 0.55|      17998|United Kingdom|\n",
      "| 489723|   85231E|STRAWBERRY SCENTE...|      36|12/2/2009 10:58| 0.85|      14299|United Kingdom|\n",
      "| 489765|    22315|200 RED + WHITE B...|       1|12/2/2009 11:33| 1.25|      15353|United Kingdom|\n",
      "| 489766|    21975|PACK OF 60 DINOSA...|       1|12/2/2009 11:34| 0.55|      17818|United Kingdom|\n",
      "| 489791|   84029G|KNITTED UNION FLA...|       1|12/2/2009 12:06| 3.75|      15542|United Kingdom|\n",
      "| 489797|   72807A|SET/3 ROSE CANDLE...|       5|12/2/2009 12:19| 4.25|      15581|United Kingdom|\n",
      "| 489814|    21973|SET OF 36 MUSHROO...|       2|12/2/2009 13:06| 1.45|      14669|United Kingdom|\n",
      "| 489827|    22335|HEART DECORATION ...|      24|12/2/2009 13:51| 0.65|      17412|United Kingdom|\n",
      "| 489866|    21877| HOME SWEET HOME MUG|       6|12/2/2009 15:04| 1.25|      16200|United Kingdom|\n",
      "| 489878|    20966|SANDWICH BATH SPONGE|       1|12/2/2009 15:51| 1.25|      15989|United Kingdom|\n",
      "+-------+---------+--------------------+--------+---------------+-----+-----------+--------------+\n",
      "only showing top 20 rows\n",
      "\n"
     ]
    },
    {
     "name": "stderr",
     "output_type": "stream",
     "text": [
      "\r",
      "                                                                                \r"
     ]
    }
   ],
   "source": [
    "df_clean.show()"
   ]
  },
  {
   "cell_type": "markdown",
   "id": "f1606bd2",
   "metadata": {},
   "source": [
    "Change the Price and InvoiceDate columns to type Double and timestamp, respectively.\n",
    "\n",
    "The cell ran but I cleared the output due to a large number of observations"
   ]
  },
  {
   "cell_type": "code",
   "execution_count": 20,
   "id": "b3968f05",
   "metadata": {},
   "outputs": [],
   "source": [
    "from pyspark.sql.types import DoubleType, TimestampType, StringType, DateType\n",
    "\n",
    "df_clean = df_clean.withColumn(\"Price\", df_clean[\"Price\"].cast(DoubleType()))"
   ]
  },
  {
   "cell_type": "code",
   "execution_count": 22,
   "id": "ea7dd8b1",
   "metadata": {},
   "outputs": [],
   "source": [
    "from pyspark.sql.functions import to_timestamp\n",
    "\n",
    "spark.sql(\"set spark.sql.legacy.timeParserPolicy=LEGACY\")\n",
    "\n",
    "test = df_clean.select('Customer ID', to_timestamp(df_clean.InvoiceDate, 'MM/d/yyyy HH:mm').alias('InvoiceDate'))"
   ]
  },
  {
   "cell_type": "code",
   "execution_count": 23,
   "id": "9df76ff1",
   "metadata": {},
   "outputs": [
    {
     "data": {
      "text/plain": [
       "StructField(InvoiceDate,TimestampType,true)"
      ]
     },
     "execution_count": 23,
     "metadata": {},
     "output_type": "execute_result"
    }
   ],
   "source": [
    "test.schema['InvoiceDate']"
   ]
  },
  {
   "cell_type": "code",
   "execution_count": 25,
   "id": "352a3b94",
   "metadata": {},
   "outputs": [],
   "source": [
    "test = test.orderBy('InvoiceDate', ascending=False)"
   ]
  },
  {
   "cell_type": "code",
   "execution_count": 26,
   "id": "a4cd7134",
   "metadata": {},
   "outputs": [
    {
     "name": "stderr",
     "output_type": "stream",
     "text": [
      "[Stage 11:=========================================>            (154 + 4) / 200]\r"
     ]
    },
    {
     "name": "stdout",
     "output_type": "stream",
     "text": [
      "+-----------+-------------------+\n",
      "|Customer ID|        InvoiceDate|\n",
      "+-----------+-------------------+\n",
      "|      12680|2011-12-09 12:50:00|\n",
      "|      12680|2011-12-09 12:50:00|\n",
      "|      12680|2011-12-09 12:50:00|\n",
      "|      12680|2011-12-09 12:50:00|\n",
      "|      12680|2011-12-09 12:50:00|\n",
      "|      12680|2011-12-09 12:50:00|\n",
      "|      12680|2011-12-09 12:50:00|\n",
      "|      12680|2011-12-09 12:50:00|\n",
      "|      12680|2011-12-09 12:50:00|\n",
      "|      12680|2011-12-09 12:50:00|\n",
      "|      12680|2011-12-09 12:50:00|\n",
      "|      12680|2011-12-09 12:50:00|\n",
      "|      12680|2011-12-09 12:50:00|\n",
      "|      12680|2011-12-09 12:50:00|\n",
      "|      12680|2011-12-09 12:50:00|\n",
      "|      12680|2011-12-09 12:50:00|\n",
      "|      13113|2011-12-09 12:49:00|\n",
      "|      13113|2011-12-09 12:49:00|\n",
      "|      13113|2011-12-09 12:49:00|\n",
      "|      13113|2011-12-09 12:49:00|\n",
      "+-----------+-------------------+\n",
      "only showing top 20 rows\n",
      "\n"
     ]
    },
    {
     "name": "stderr",
     "output_type": "stream",
     "text": [
      "\r",
      "[Stage 11:================================================>     (180 + 5) / 200]\r",
      "\r",
      "                                                                                \r"
     ]
    }
   ],
   "source": [
    "test.show()"
   ]
  },
  {
   "cell_type": "code",
   "execution_count": 27,
   "id": "8215a04c",
   "metadata": {},
   "outputs": [
    {
     "name": "stderr",
     "output_type": "stream",
     "text": [
      "                                                                                \r"
     ]
    },
    {
     "data": {
      "text/plain": [
       "797885"
      ]
     },
     "execution_count": 27,
     "metadata": {},
     "output_type": "execute_result"
    }
   ],
   "source": [
    "test.count()"
   ]
  },
  {
   "cell_type": "code",
   "execution_count": 28,
   "id": "a68a03e8",
   "metadata": {},
   "outputs": [
    {
     "name": "stderr",
     "output_type": "stream",
     "text": [
      "                                                                                \r"
     ]
    },
    {
     "data": {
      "text/plain": [
       "797885"
      ]
     },
     "execution_count": 28,
     "metadata": {},
     "output_type": "execute_result"
    }
   ],
   "source": [
    "df_clean.count()"
   ]
  },
  {
   "cell_type": "markdown",
   "id": "44c69a6f",
   "metadata": {},
   "source": [
    "Order the Spark DataFrame by Price descending to calculate percentiles"
   ]
  },
  {
   "cell_type": "code",
   "execution_count": 29,
   "id": "f7a06fa1",
   "metadata": {},
   "outputs": [
    {
     "name": "stderr",
     "output_type": "stream",
     "text": [
      "[Stage 18:==============>                                           (1 + 3) / 4]\r"
     ]
    },
    {
     "name": "stdout",
     "output_type": "stream",
     "text": [
      "+-------+---------+-----------+--------+---------------+--------+-----------+--------------+\n",
      "|Invoice|StockCode|Description|Quantity|    InvoiceDate|   Price|Customer ID|       Country|\n",
      "+-------+---------+-----------+--------+---------------+--------+-----------+--------------+\n",
      "|C556445|        M|     Manual|      -1|6/10/2011 15:31| 38970.0|      15098|United Kingdom|\n",
      "|C512770|        M|     Manual|      -1|6/17/2010 16:52|25111.09|      17399|United Kingdom|\n",
      "|C502262|        M|     Manual|      -1|3/23/2010 15:20| 10953.5|      12918|United Kingdom|\n",
      "|C502264|        M|     Manual|      -1|3/23/2010 15:24| 10953.5|      12918|United Kingdom|\n",
      "| 502263|        M|     Manual|       1|3/23/2010 15:22| 10953.5|      12918|United Kingdom|\n",
      "|C522793|        M|     Manual|      -1|9/16/2010 14:53| 10468.8|      14063|United Kingdom|\n",
      "| 524159|        M|     Manual|       1|9/27/2010 16:12| 10468.8|      14063|United Kingdom|\n",
      "|C525398|        M|     Manual|      -1|10/5/2010 11:47| 10468.8|      14063|United Kingdom|\n",
      "| 496115|        M|     Manual|       1|1/29/2010 11:04|  8985.6|      17949|United Kingdom|\n",
      "|C496116|        M|     Manual|      -1|1/29/2010 11:05|  8985.6|      17949|United Kingdom|\n",
      "| 551697|     POST|    POSTAGE|       1| 5/3/2011 13:46| 8142.75|      16029|United Kingdom|\n",
      "|C551685|     POST|    POSTAGE|      -1| 5/3/2011 12:51| 8142.75|      16029|United Kingdom|\n",
      "|C525470|        M|     Manual|      -1|10/5/2010 15:12| 7044.79|      15413|United Kingdom|\n",
      "| 501768|        M|     Manual|       1|3/19/2010 11:45| 6958.17|      15760|        Norway|\n",
      "|C501751|        M|     Manual|      -1|3/19/2010 11:30| 6958.17|      15760|        Norway|\n",
      "|C501769|        M|     Manual|      -1|3/19/2010 11:49| 6958.17|      15760|        Norway|\n",
      "| 501766|        M|     Manual|       1|3/19/2010 11:35| 6958.17|      15760|        Norway|\n",
      "|C551699|        M|     Manual|      -1| 5/3/2011 14:12|  6930.0|      16029|United Kingdom|\n",
      "|C505490|        M|     Manual|      -1|4/22/2010 12:55| 5876.34|      15849|United Kingdom|\n",
      "|C504637|        M|     Manual|      -1|4/15/2010 14:07|  5843.7|      17017|United Kingdom|\n",
      "+-------+---------+-----------+--------+---------------+--------+-----------+--------------+\n",
      "only showing top 20 rows\n",
      "\n"
     ]
    },
    {
     "name": "stderr",
     "output_type": "stream",
     "text": [
      "\r",
      "[Stage 19:===================================================>  (189 + 4) / 200]\r",
      "\r",
      "                                                                                \r"
     ]
    }
   ],
   "source": [
    "df_clean.orderBy(\"Price\", ascending=False).show(20)"
   ]
  },
  {
   "cell_type": "code",
   "execution_count": 30,
   "id": "2a5651c5",
   "metadata": {},
   "outputs": [
    {
     "name": "stderr",
     "output_type": "stream",
     "text": [
      "[Stage 21:====================================================> (195 + 4) / 200]\r"
     ]
    },
    {
     "name": "stdout",
     "output_type": "stream",
     "text": [
      "+-----------+------------------+\n",
      "|Customer ID|        sum(Price)|\n",
      "+-----------+------------------+\n",
      "|      15727|2446.9100000000008|\n",
      "|      16503| 883.9200000000009|\n",
      "|      17753|198.98999999999998|\n",
      "|      15957| 356.1499999999999|\n",
      "|      16386|285.56999999999994|\n",
      "|      17389| 2438.029999999997|\n",
      "|      12940|405.89999999999986|\n",
      "|      16574|155.11999999999995|\n",
      "|      13623|1051.0200000000002|\n",
      "|      13832|            148.44|\n",
      "|      16861|131.48000000000002|\n",
      "|      13285| 539.3000000000001|\n",
      "|      17679|            291.41|\n",
      "|      17420|177.34000000000003|\n",
      "|      15619|             13.25|\n",
      "|      15790|117.75000000000001|\n",
      "|      18051|113.35999999999999|\n",
      "|      16339| 89.25000000000001|\n",
      "|      14570|223.49999999999986|\n",
      "|      13840|114.98000000000002|\n",
      "+-----------+------------------+\n",
      "only showing top 20 rows\n",
      "\n"
     ]
    },
    {
     "name": "stderr",
     "output_type": "stream",
     "text": [
      "\r",
      "                                                                                \r"
     ]
    }
   ],
   "source": [
    "monetary = df_clean.groupBy('Customer ID').sum('Price')\n",
    "monetary.show()"
   ]
  },
  {
   "cell_type": "code",
   "execution_count": 31,
   "id": "8d9b81a5",
   "metadata": {},
   "outputs": [],
   "source": [
    "from pyspark.sql.functions import percentile_approx\n",
    "\n",
    "quantiles = monetary.select(percentile_approx(\"sum(Price)\", [0.85, 0.70, 0.40], 1000000).alias(\"Top 15-30-60th %\"))"
   ]
  },
  {
   "cell_type": "code",
   "execution_count": 32,
   "id": "7047a614",
   "metadata": {},
   "outputs": [
    {
     "name": "stderr",
     "output_type": "stream",
     "text": [
      "[Stage 25:====================================================> (193 + 4) / 200]\r"
     ]
    },
    {
     "name": "stdout",
     "output_type": "stream",
     "text": [
      "+-----------------------------------------------------------+\n",
      "|Top 15-30-60th %                                           |\n",
      "+-----------------------------------------------------------+\n",
      "|[734.1300000000003, 355.20999999999987, 118.50999999999999]|\n",
      "+-----------------------------------------------------------+\n",
      "\n"
     ]
    },
    {
     "name": "stderr",
     "output_type": "stream",
     "text": [
      "\r",
      "                                                                                \r"
     ]
    }
   ],
   "source": [
    "quantiles.show(3, False)"
   ]
  },
  {
   "cell_type": "markdown",
   "id": "29c1f636",
   "metadata": {},
   "source": [
    "Use percentiles to assign values to each of the customer records based on the provided chart"
   ]
  },
  {
   "cell_type": "code",
   "execution_count": 33,
   "id": "237a3116",
   "metadata": {},
   "outputs": [
    {
     "name": "stderr",
     "output_type": "stream",
     "text": [
      "[Stage 27:==============>                                           (1 + 3) / 4]\r"
     ]
    },
    {
     "name": "stdout",
     "output_type": "stream",
     "text": [
      "+-------+---------+--------------------+--------+---------------+-----+-----------+--------------+--------+\n",
      "|Invoice|StockCode|         Description|Quantity|    InvoiceDate|Price|Customer ID|       Country|Monetary|\n",
      "+-------+---------+--------------------+--------+---------------+-----+-----------+--------------+--------+\n",
      "| 489514|    21791|VINTAGE HEADS AND...|      72|12/1/2009 11:21| 1.06|      15311|United Kingdom|       4|\n",
      "| 489520|   72739B|WHITE CHOCOLATE S...|      12|12/1/2009 11:41| 1.25|      14911|          EIRE|       4|\n",
      "| 489522|    22315|200 RED + WHITE B...|       1|12/1/2009 11:45| 1.25|      15998|United Kingdom|       4|\n",
      "| 489536|    21611|SET OF 12 LILY BO...|       2|12/1/2009 12:13| 2.95|      16393|United Kingdom|       4|\n",
      "| 489561|    21816|CHRISTMAS TREE T-...|       6|12/1/2009 12:57| 1.45|      14654|United Kingdom|       4|\n",
      "| 489562|    35071|ASSORTED SANTA CH...|       1|12/1/2009 13:07| 0.85|      17998|United Kingdom|       4|\n",
      "| 489576|    22152|PLACE SETTING WHI...|      24|12/1/2009 13:38| 0.42|      15984|United Kingdom|       4|\n",
      "| 489599|    21239|    PINK  SPOTTY CUP|      16|12/1/2009 14:40| 0.85|      12758|      Portugal|       4|\n",
      "| 489658|  79323LP|LIGHT PINK CHERRY...|       6|12/1/2009 17:31| 6.75|      15485|United Kingdom|       4|\n",
      "| 489679|    22086|PAPER CHAIN KIT 5...|       6|12/2/2009 10:00| 2.95|      16163|United Kingdom|       4|\n",
      "| 489681|   85226C|BLUE PULL BACK RA...|      11|12/2/2009 10:02| 0.55|      17998|United Kingdom|       4|\n",
      "| 489723|   85231E|STRAWBERRY SCENTE...|      36|12/2/2009 10:58| 0.85|      14299|United Kingdom|       4|\n",
      "| 489765|    22315|200 RED + WHITE B...|       1|12/2/2009 11:33| 1.25|      15353|United Kingdom|       4|\n",
      "| 489766|    21975|PACK OF 60 DINOSA...|       1|12/2/2009 11:34| 0.55|      17818|United Kingdom|       4|\n",
      "| 489791|   84029G|KNITTED UNION FLA...|       1|12/2/2009 12:06| 3.75|      15542|United Kingdom|       4|\n",
      "| 489797|   72807A|SET/3 ROSE CANDLE...|       5|12/2/2009 12:19| 4.25|      15581|United Kingdom|       4|\n",
      "| 489814|    21973|SET OF 36 MUSHROO...|       2|12/2/2009 13:06| 1.45|      14669|United Kingdom|       4|\n",
      "| 489827|    22335|HEART DECORATION ...|      24|12/2/2009 13:51| 0.65|      17412|United Kingdom|       4|\n",
      "| 489866|    21877| HOME SWEET HOME MUG|       6|12/2/2009 15:04| 1.25|      16200|United Kingdom|       4|\n",
      "| 489878|    20966|SANDWICH BATH SPONGE|       1|12/2/2009 15:51| 1.25|      15989|United Kingdom|       4|\n",
      "+-------+---------+--------------------+--------+---------------+-----+-----------+--------------+--------+\n",
      "only showing top 20 rows\n",
      "\n"
     ]
    },
    {
     "name": "stderr",
     "output_type": "stream",
     "text": [
      "\r",
      "                                                                                \r"
     ]
    }
   ],
   "source": [
    "from pyspark.sql.functions import when\n",
    "\n",
    "df_clean = df_clean.withColumn(\"Monetary\", \\\n",
    "              when((df_clean[\"Price\"] >= 734.1300000000006), 1)\n",
    "             .when((df_clean[\"Price\"] >= 355.21) & (df_clean[\"Price\"] < 734.1300000000006), 2)\n",
    "             .when((df_clean[\"Price\"] >= 118.51000000000002) & (df_clean[\"Price\"] < 355.21), 3)\n",
    "             .otherwise(4))\n",
    "\n",
    "df_clean.show()"
   ]
  },
  {
   "cell_type": "markdown",
   "id": "dd578bf0",
   "metadata": {},
   "source": [
    "Repeating steps for frequency"
   ]
  },
  {
   "cell_type": "code",
   "execution_count": 34,
   "id": "9d9205fa",
   "metadata": {
    "scrolled": true
   },
   "outputs": [
    {
     "data": {
      "text/plain": [
       "[('Invoice', 'string'),\n",
       " ('StockCode', 'string'),\n",
       " ('Description', 'string'),\n",
       " ('Quantity', 'int'),\n",
       " ('InvoiceDate', 'string'),\n",
       " ('Price', 'double'),\n",
       " ('Customer ID', 'int'),\n",
       " ('Country', 'string'),\n",
       " ('Monetary', 'int')]"
      ]
     },
     "execution_count": 34,
     "metadata": {},
     "output_type": "execute_result"
    }
   ],
   "source": [
    "df_clean.dtypes"
   ]
  },
  {
   "cell_type": "code",
   "execution_count": 35,
   "id": "6b6734ad",
   "metadata": {},
   "outputs": [],
   "source": [
    "df_clean = df_clean.withColumnRenamed(\"Customer ID\", \"Customer_ID\")"
   ]
  },
  {
   "cell_type": "code",
   "execution_count": 36,
   "id": "1e03ed24",
   "metadata": {},
   "outputs": [],
   "source": [
    "frequency = df_clean.withColumn(\"Quantity\", df_clean[\"Quantity\"].cast(DoubleType()))"
   ]
  },
  {
   "cell_type": "code",
   "execution_count": 37,
   "id": "a4be142a",
   "metadata": {},
   "outputs": [
    {
     "name": "stderr",
     "output_type": "stream",
     "text": [
      "[Stage 31:===================================================>  (192 + 4) / 200]\r"
     ]
    },
    {
     "name": "stdout",
     "output_type": "stream",
     "text": [
      "+-----------+--------------+\n",
      "|Customer_ID|count(Invoice)|\n",
      "+-----------+--------------+\n",
      "|      16574|             3|\n",
      "|      15727|            15|\n",
      "|      17389|            77|\n",
      "|      15619|             1|\n",
      "|      15447|             6|\n",
      "|      18051|             8|\n",
      "|      13623|            15|\n",
      "|      12940|             4|\n",
      "|      14450|             7|\n",
      "|      16503|            13|\n",
      "|      15846|             1|\n",
      "|      14832|             3|\n",
      "|      15790|             1|\n",
      "|      13285|             6|\n",
      "|      17753|             5|\n",
      "|      14570|             3|\n",
      "|      13832|             3|\n",
      "|      17679|            11|\n",
      "|      16861|             6|\n",
      "|      15957|             3|\n",
      "+-----------+--------------+\n",
      "only showing top 20 rows\n",
      "\n"
     ]
    },
    {
     "name": "stderr",
     "output_type": "stream",
     "text": [
      "\r",
      "[Stage 31:=====================================================>(197 + 3) / 200]\r",
      "\r",
      "                                                                                \r"
     ]
    }
   ],
   "source": [
    "from pyspark.sql.functions import countDistinct\n",
    "\n",
    "freq_view = frequency.groupBy('Customer_ID').agg(countDistinct('Invoice'))\n",
    "freq_view.show()"
   ]
  },
  {
   "cell_type": "code",
   "execution_count": 38,
   "id": "97d7190a",
   "metadata": {},
   "outputs": [
    {
     "name": "stderr",
     "output_type": "stream",
     "text": [
      "[Stage 36:=================================================>    (185 + 5) / 200]\r"
     ]
    },
    {
     "name": "stdout",
     "output_type": "stream",
     "text": [
      "+----------------+\n",
      "|Top 15-30-60th %|\n",
      "+----------------+\n",
      "|      [13, 7, 3]|\n",
      "+----------------+\n",
      "\n"
     ]
    },
    {
     "name": "stderr",
     "output_type": "stream",
     "text": [
      "\r",
      "                                                                                \r"
     ]
    }
   ],
   "source": [
    "freq_quantiles = freq_view.select(percentile_approx(\"count(Invoice)\", [0.85, 0.70, 0.40], 1000000).alias(\"Top 15-30-60th %\"))\n",
    "freq_quantiles.show()"
   ]
  },
  {
   "cell_type": "code",
   "execution_count": 39,
   "id": "94bd986e",
   "metadata": {},
   "outputs": [
    {
     "name": "stderr",
     "output_type": "stream",
     "text": [
      "[Stage 40:===================================================>  (190 + 4) / 200]\r"
     ]
    },
    {
     "name": "stdout",
     "output_type": "stream",
     "text": [
      "+-----------+--------------+---------+\n",
      "|Customer_ID|count(Invoice)|Frequency|\n",
      "+-----------+--------------+---------+\n",
      "|      16574|             3|        3|\n",
      "|      15727|            15|        1|\n",
      "|      17389|            77|        1|\n",
      "|      15619|             1|        4|\n",
      "|      15447|             6|        3|\n",
      "|      18051|             8|        2|\n",
      "|      13623|            15|        1|\n",
      "|      12940|             4|        3|\n",
      "|      14450|             7|        2|\n",
      "|      16503|            13|        1|\n",
      "|      15846|             1|        4|\n",
      "|      14832|             3|        3|\n",
      "|      15790|             1|        4|\n",
      "|      13285|             6|        3|\n",
      "|      17753|             5|        3|\n",
      "|      14570|             3|        3|\n",
      "|      13832|             3|        3|\n",
      "|      17679|            11|        2|\n",
      "|      16861|             6|        3|\n",
      "|      15957|             3|        3|\n",
      "+-----------+--------------+---------+\n",
      "only showing top 20 rows\n",
      "\n"
     ]
    },
    {
     "name": "stderr",
     "output_type": "stream",
     "text": [
      "\r",
      "[Stage 40:=====================================================>(197 + 3) / 200]\r",
      "\r",
      "                                                                                \r"
     ]
    }
   ],
   "source": [
    "freq_view = freq_view.withColumn(\"Frequency\", \\\n",
    "              when((freq_view[\"count(Invoice)\"] >= 13), 1)\n",
    "             .when((freq_view[\"count(Invoice)\"] >= 7) & (freq_view[\"count(Invoice)\"] < 13), 2)\n",
    "             .when((freq_view[\"count(Invoice)\"] >= 3) & (freq_view[\"count(Invoice)\"] < 7), 3)\n",
    "             .otherwise(4))\n",
    "\n",
    "freq_view.show()"
   ]
  },
  {
   "cell_type": "code",
   "execution_count": 40,
   "id": "cadba1c0",
   "metadata": {},
   "outputs": [],
   "source": [
    "freq_view = freq_view.withColumnRenamed(\"Customer_ID\", \"ID\")\n",
    "freq_view = freq_view.drop(\"count(Invoice)\")"
   ]
  },
  {
   "cell_type": "code",
   "execution_count": 41,
   "id": "b095ba0f",
   "metadata": {},
   "outputs": [],
   "source": [
    "freq_df = df_clean.join(freq_view, df_clean[\"Customer_ID\"] == freq_view[\"ID\"],\"left\")"
   ]
  },
  {
   "cell_type": "code",
   "execution_count": 42,
   "id": "8d6879fc",
   "metadata": {
    "scrolled": true
   },
   "outputs": [
    {
     "name": "stderr",
     "output_type": "stream",
     "text": [
      "[Stage 46:=====================================================>(199 + 1) / 200]\r"
     ]
    },
    {
     "name": "stdout",
     "output_type": "stream",
     "text": [
      "+-------+---------+--------------------+--------+----------------+-----+-----------+--------------+--------+---------+\n",
      "|Invoice|StockCode|         Description|Quantity|     InvoiceDate|Price|Customer_ID|       Country|Monetary|Frequency|\n",
      "+-------+---------+--------------------+--------+----------------+-----+-----------+--------------+--------+---------+\n",
      "| 513796|   85017B|ENVELOPE 50 BLOSS...|      12| 6/28/2010 15:57| 0.85|      12799|         Japan|       4|        4|\n",
      "| 513796|    22077|6 RIBBONS RUSTIC ...|      12| 6/28/2010 15:57| 1.65|      12799|         Japan|       4|        4|\n",
      "| 513796|    22509|SEWING BOX RETROS...|       1| 6/28/2010 15:57|16.95|      12799|         Japan|       4|        4|\n",
      "| 513796|   85032C|CURIOUS IMAGES GI...|       6| 6/28/2010 15:57|  2.1|      12799|         Japan|       4|        4|\n",
      "| 513796|   85049G|CHOCOLATE BOX RIB...|      12| 6/28/2010 15:57| 1.25|      12799|         Japan|       4|        4|\n",
      "| 513796|   85032A|ROMANTIC IMAGES G...|       6| 6/28/2010 15:57|  2.1|      12799|         Japan|       4|        4|\n",
      "| 513796|    22074|6 RIBBONS SHIMMER...|      12| 6/28/2010 15:57| 1.65|      12799|         Japan|       4|        4|\n",
      "| 513796|   85032B|BLOSSOM IMAGES GI...|       6| 6/28/2010 15:57|  2.1|      12799|         Japan|       4|        4|\n",
      "| 513796|    22078|RIBBON REEL LACE ...|      10| 6/28/2010 15:57|  2.1|      12799|         Japan|       4|        4|\n",
      "| 513796|    21259|VICTORIAN SEWING ...|       2| 6/28/2010 15:57| 5.95|      12799|         Japan|       4|        4|\n",
      "| 513796|   85017C|ENVELOPE 50 CURIO...|      12| 6/28/2010 15:57| 0.85|      12799|         Japan|       4|        4|\n",
      "| 513796|    85178|VICTORIAN SEWING KIT|      12| 6/28/2010 15:57| 1.25|      12799|         Japan|       4|        4|\n",
      "| 513796|    85176|SEWING SUSAN 21 N...|      12| 6/28/2010 15:57| 0.85|      12799|         Japan|       4|        4|\n",
      "| 513796|   85049D|BRIGHT BLUES RIBB...|      12| 6/28/2010 15:57| 1.25|      12799|         Japan|       4|        4|\n",
      "| 513796|    22081|RIBBON REEL FLORA...|      10| 6/28/2010 15:57| 1.65|      12799|         Japan|       4|        4|\n",
      "| 566488|    22600|CHRISTMAS RETROSP...|      12| 9/13/2011 10:16| 0.85|      12940|United Kingdom|       4|        3|\n",
      "| 571270|    22696| WICKER WREATH LARGE|       2|10/16/2011 12:09| 1.95|      12940|United Kingdom|       4|        3|\n",
      "| 571270|    21619|4 VANILLA BOTANIC...|       3|10/16/2011 12:09| 1.25|      12940|United Kingdom|       4|        3|\n",
      "| 566488|    23174|REGENCY SUGAR BOW...|       4| 9/13/2011 10:16| 4.15|      12940|United Kingdom|       4|        3|\n",
      "| 571270|    23333|IVORY WICKER HEAR...|       4|10/16/2011 12:09| 1.25|      12940|United Kingdom|       4|        3|\n",
      "+-------+---------+--------------------+--------+----------------+-----+-----------+--------------+--------+---------+\n",
      "only showing top 20 rows\n",
      "\n"
     ]
    },
    {
     "name": "stderr",
     "output_type": "stream",
     "text": [
      "\r",
      "                                                                                \r"
     ]
    }
   ],
   "source": [
    "freq_df = freq_df.drop(\"ID\")\n",
    "freq_df.show()"
   ]
  },
  {
   "cell_type": "markdown",
   "id": "49922b60",
   "metadata": {},
   "source": [
    "Moving on to the last part of segmentation on recency"
   ]
  },
  {
   "cell_type": "code",
   "execution_count": 43,
   "id": "29cf863d",
   "metadata": {},
   "outputs": [
    {
     "name": "stderr",
     "output_type": "stream",
     "text": [
      "[Stage 52:===================================================>  (190 + 4) / 200]\r"
     ]
    },
    {
     "name": "stdout",
     "output_type": "stream",
     "text": [
      "+-----------+-------------------+\n",
      "|Customer ID| first(InvoiceDate)|\n",
      "+-----------+-------------------+\n",
      "|      17389|2011-12-09 09:38:00|\n",
      "|      15790|2011-11-29 14:53:00|\n",
      "|      15619|2011-11-29 08:14:00|\n",
      "|      15727|2011-11-23 12:36:00|\n",
      "|      13832|2011-11-22 12:31:00|\n",
      "|      13285|2011-11-16 13:19:00|\n",
      "|      16386|2011-11-11 12:28:00|\n",
      "|      13623|2011-11-09 12:00:00|\n",
      "|      15957|2011-11-08 12:14:00|\n",
      "|      12940|2011-10-24 14:04:00|\n",
      "|      17420|2011-10-20 14:52:00|\n",
      "|      17679|2011-10-18 07:43:00|\n",
      "|      16861|2011-10-11 09:05:00|\n",
      "|      16574|2011-09-29 13:39:00|\n",
      "|      16503|2011-08-25 11:46:00|\n",
      "|      18024|2011-07-10 12:40:00|\n",
      "|      14450|2011-06-12 10:46:00|\n",
      "|      14570|2011-03-04 10:58:00|\n",
      "|      16339|2011-02-28 13:41:00|\n",
      "|      15447|2011-01-13 11:26:00|\n",
      "+-----------+-------------------+\n",
      "only showing top 20 rows\n",
      "\n"
     ]
    },
    {
     "name": "stderr",
     "output_type": "stream",
     "text": [
      "\r",
      "[Stage 52:====================================================> (196 + 4) / 200]\r",
      "\r",
      "                                                                                \r"
     ]
    }
   ],
   "source": [
    "from pyspark.sql.functions import first\n",
    "\n",
    "dated = test.groupBy('Customer ID').agg(first('InvoiceDate'))\n",
    "\n",
    "dated.show()"
   ]
  },
  {
   "cell_type": "code",
   "execution_count": 44,
   "id": "1df6e5ec",
   "metadata": {},
   "outputs": [
    {
     "name": "stderr",
     "output_type": "stream",
     "text": [
      "[Stage 58:===================================================>  (190 + 4) / 200]\r"
     ]
    },
    {
     "name": "stdout",
     "output_type": "stream",
     "text": [
      "+-----------+-------------------+-------+\n",
      "|Customer ID| first(InvoiceDate)|Recency|\n",
      "+-----------+-------------------+-------+\n",
      "|      17389|2011-12-09 09:38:00|      4|\n",
      "|      15790|2011-11-29 14:53:00|      4|\n",
      "|      15619|2011-11-29 08:14:00|      4|\n",
      "|      15727|2011-11-23 12:36:00|      4|\n",
      "|      13832|2011-11-22 12:31:00|      4|\n",
      "|      13285|2011-11-16 13:19:00|      4|\n",
      "|      16386|2011-11-11 12:28:00|      4|\n",
      "|      13623|2011-11-09 12:00:00|      4|\n",
      "|      15957|2011-11-08 12:14:00|      4|\n",
      "|      12940|2011-10-24 14:04:00|      4|\n",
      "|      17420|2011-10-20 14:52:00|      4|\n",
      "|      17679|2011-10-18 07:43:00|      4|\n",
      "|      16861|2011-10-11 09:05:00|      4|\n",
      "|      16574|2011-09-29 13:39:00|      4|\n",
      "|      16503|2011-08-25 11:46:00|      4|\n",
      "|      18024|2011-07-10 12:40:00|      4|\n",
      "|      14450|2011-06-12 10:46:00|      4|\n",
      "|      14570|2011-03-04 10:58:00|      4|\n",
      "|      16339|2011-02-28 13:41:00|      4|\n",
      "|      15447|2011-01-13 11:26:00|      4|\n",
      "+-----------+-------------------+-------+\n",
      "only showing top 20 rows\n",
      "\n"
     ]
    },
    {
     "name": "stderr",
     "output_type": "stream",
     "text": [
      "\r",
      "[Stage 58:====================================================> (195 + 4) / 200]\r",
      "\r",
      "                                                                                \r"
     ]
    }
   ],
   "source": [
    "recency_view = dated.withColumn(\"Recency\", \\\n",
    "              when((dated[\"first(InvoiceDate)\"] >= \"11/15/2011\"), 1)\n",
    "             .when((dated[\"first(InvoiceDate)\"] >= \"9/4/2011\") & (dated[\"first(InvoiceDate)\"] < \"11/14/2011\"), 2)\n",
    "             .when((dated[\"first(InvoiceDate)\"] >= \"1/4/2011\") & (dated[\"first(InvoiceDate)\"] < \"9/4/2011\"), 3)\n",
    "             .otherwise(4))\n",
    "\n",
    "recency_view.show()"
   ]
  },
  {
   "cell_type": "code",
   "execution_count": 45,
   "id": "ac5c1c5d",
   "metadata": {},
   "outputs": [
    {
     "name": "stderr",
     "output_type": "stream",
     "text": [
      "[Stage 68:====================================================> (195 + 4) / 200]\r"
     ]
    },
    {
     "name": "stdout",
     "output_type": "stream",
     "text": [
      "+-------+---------+--------------------+--------+----------------+-----+-----------+--------------+--------+---------+-----------+-------------------+-------+\n",
      "|Invoice|StockCode|         Description|Quantity|     InvoiceDate|Price|Customer_ID|       Country|Monetary|Frequency|Customer ID| first(InvoiceDate)|Recency|\n",
      "+-------+---------+--------------------+--------+----------------+-----+-----------+--------------+--------+---------+-----------+-------------------+-------+\n",
      "| 513796|   85017B|ENVELOPE 50 BLOSS...|      12| 6/28/2010 15:57| 0.85|      12799|         Japan|       4|        4|      12799|2010-06-28 15:57:00|      4|\n",
      "| 513796|    22077|6 RIBBONS RUSTIC ...|      12| 6/28/2010 15:57| 1.65|      12799|         Japan|       4|        4|      12799|2010-06-28 15:57:00|      4|\n",
      "| 513796|    22509|SEWING BOX RETROS...|       1| 6/28/2010 15:57|16.95|      12799|         Japan|       4|        4|      12799|2010-06-28 15:57:00|      4|\n",
      "| 513796|   85032C|CURIOUS IMAGES GI...|       6| 6/28/2010 15:57|  2.1|      12799|         Japan|       4|        4|      12799|2010-06-28 15:57:00|      4|\n",
      "| 513796|   85049G|CHOCOLATE BOX RIB...|      12| 6/28/2010 15:57| 1.25|      12799|         Japan|       4|        4|      12799|2010-06-28 15:57:00|      4|\n",
      "| 513796|   85032A|ROMANTIC IMAGES G...|       6| 6/28/2010 15:57|  2.1|      12799|         Japan|       4|        4|      12799|2010-06-28 15:57:00|      4|\n",
      "| 513796|    22074|6 RIBBONS SHIMMER...|      12| 6/28/2010 15:57| 1.65|      12799|         Japan|       4|        4|      12799|2010-06-28 15:57:00|      4|\n",
      "| 513796|   85032B|BLOSSOM IMAGES GI...|       6| 6/28/2010 15:57|  2.1|      12799|         Japan|       4|        4|      12799|2010-06-28 15:57:00|      4|\n",
      "| 513796|    22078|RIBBON REEL LACE ...|      10| 6/28/2010 15:57|  2.1|      12799|         Japan|       4|        4|      12799|2010-06-28 15:57:00|      4|\n",
      "| 513796|    21259|VICTORIAN SEWING ...|       2| 6/28/2010 15:57| 5.95|      12799|         Japan|       4|        4|      12799|2010-06-28 15:57:00|      4|\n",
      "| 513796|   85017C|ENVELOPE 50 CURIO...|      12| 6/28/2010 15:57| 0.85|      12799|         Japan|       4|        4|      12799|2010-06-28 15:57:00|      4|\n",
      "| 513796|    85178|VICTORIAN SEWING KIT|      12| 6/28/2010 15:57| 1.25|      12799|         Japan|       4|        4|      12799|2010-06-28 15:57:00|      4|\n",
      "| 513796|    85176|SEWING SUSAN 21 N...|      12| 6/28/2010 15:57| 0.85|      12799|         Japan|       4|        4|      12799|2010-06-28 15:57:00|      4|\n",
      "| 513796|   85049D|BRIGHT BLUES RIBB...|      12| 6/28/2010 15:57| 1.25|      12799|         Japan|       4|        4|      12799|2010-06-28 15:57:00|      4|\n",
      "| 513796|    22081|RIBBON REEL FLORA...|      10| 6/28/2010 15:57| 1.65|      12799|         Japan|       4|        4|      12799|2010-06-28 15:57:00|      4|\n",
      "| 566488|    22600|CHRISTMAS RETROSP...|      12| 9/13/2011 10:16| 0.85|      12940|United Kingdom|       4|        3|      12940|2011-10-24 14:04:00|      4|\n",
      "| 571270|    22696| WICKER WREATH LARGE|       2|10/16/2011 12:09| 1.95|      12940|United Kingdom|       4|        3|      12940|2011-10-24 14:04:00|      4|\n",
      "| 571270|    21619|4 VANILLA BOTANIC...|       3|10/16/2011 12:09| 1.25|      12940|United Kingdom|       4|        3|      12940|2011-10-24 14:04:00|      4|\n",
      "| 566488|    23174|REGENCY SUGAR BOW...|       4| 9/13/2011 10:16| 4.15|      12940|United Kingdom|       4|        3|      12940|2011-10-24 14:04:00|      4|\n",
      "| 571270|    23333|IVORY WICKER HEAR...|       4|10/16/2011 12:09| 1.25|      12940|United Kingdom|       4|        3|      12940|2011-10-24 14:04:00|      4|\n",
      "+-------+---------+--------------------+--------+----------------+-----+-----------+--------------+--------+---------+-----------+-------------------+-------+\n",
      "only showing top 20 rows\n",
      "\n"
     ]
    },
    {
     "name": "stderr",
     "output_type": "stream",
     "text": [
      "\r",
      "                                                                                \r"
     ]
    }
   ],
   "source": [
    "recency_df = freq_df.join(recency_view, freq_df[\"Customer_ID\"] == recency_view[\"Customer ID\"], \"left\")\n",
    "recency_df.show()"
   ]
  },
  {
   "cell_type": "code",
   "execution_count": 46,
   "id": "72c32ccf",
   "metadata": {},
   "outputs": [
    {
     "data": {
      "text/plain": [
       "['Invoice',\n",
       " 'StockCode',\n",
       " 'Description',\n",
       " 'Quantity',\n",
       " 'InvoiceDate',\n",
       " 'Price',\n",
       " 'Customer_ID',\n",
       " 'Country',\n",
       " 'Monetary',\n",
       " 'Frequency',\n",
       " 'Customer ID',\n",
       " 'first(InvoiceDate)',\n",
       " 'Recency']"
      ]
     },
     "execution_count": 46,
     "metadata": {},
     "output_type": "execute_result"
    }
   ],
   "source": [
    "recency_df.columns"
   ]
  },
  {
   "cell_type": "code",
   "execution_count": 47,
   "id": "1dbc522b",
   "metadata": {},
   "outputs": [],
   "source": [
    "recency_df = recency_df.drop('first(InvoiceDate)', 'Customer ID')"
   ]
  },
  {
   "cell_type": "code",
   "execution_count": 48,
   "id": "ffdd5f06",
   "metadata": {},
   "outputs": [
    {
     "name": "stderr",
     "output_type": "stream",
     "text": [
      "[Stage 75:====================================================> (194 + 4) / 200]\r"
     ]
    },
    {
     "name": "stdout",
     "output_type": "stream",
     "text": [
      "+-----------+-------+---------+--------+\n",
      "|Customer_ID|Recency|Frequency|Monetary|\n",
      "+-----------+-------+---------+--------+\n",
      "|      12799|      4|        4|       4|\n",
      "|      12799|      4|        4|       4|\n",
      "|      12799|      4|        4|       4|\n",
      "|      12799|      4|        4|       4|\n",
      "|      12799|      4|        4|       4|\n",
      "|      12799|      4|        4|       4|\n",
      "|      12799|      4|        4|       4|\n",
      "|      12799|      4|        4|       4|\n",
      "|      12799|      4|        4|       4|\n",
      "|      12799|      4|        4|       4|\n",
      "|      12799|      4|        4|       4|\n",
      "|      12799|      4|        4|       4|\n",
      "|      12799|      4|        4|       4|\n",
      "|      12799|      4|        4|       4|\n",
      "|      12799|      4|        4|       4|\n",
      "|      12940|      4|        3|       4|\n",
      "|      12940|      4|        3|       4|\n",
      "|      12940|      4|        3|       4|\n",
      "|      12940|      4|        3|       4|\n",
      "|      12940|      4|        3|       4|\n",
      "+-----------+-------+---------+--------+\n",
      "only showing top 20 rows\n",
      "\n"
     ]
    },
    {
     "name": "stderr",
     "output_type": "stream",
     "text": [
      "\r",
      "                                                                                \r"
     ]
    }
   ],
   "source": [
    "RFM_matrix = recency_df.select(['Customer_ID', 'Recency', 'Frequency', 'Monetary'])\n",
    "RFM_matrix.show()"
   ]
  },
  {
   "cell_type": "code",
   "execution_count": 49,
   "id": "f7d3c2aa",
   "metadata": {},
   "outputs": [
    {
     "name": "stderr",
     "output_type": "stream",
     "text": [
      "                                                                                \r"
     ]
    },
    {
     "data": {
      "text/plain": [
       "797885"
      ]
     },
     "execution_count": 49,
     "metadata": {},
     "output_type": "execute_result"
    }
   ],
   "source": [
    "RFM_matrix.count()"
   ]
  },
  {
   "cell_type": "markdown",
   "id": "94e4d9bb",
   "metadata": {},
   "source": [
    "Find the number of customers in each of the 6 categories in the table above"
   ]
  },
  {
   "cell_type": "markdown",
   "id": "6af82cf8",
   "metadata": {},
   "source": [
    "\"Best customers\" segment with RFM 111"
   ]
  },
  {
   "cell_type": "code",
   "execution_count": 50,
   "id": "2dc16b3f",
   "metadata": {
    "scrolled": true
   },
   "outputs": [
    {
     "name": "stdout",
     "output_type": "stream",
     "text": [
      "+-----------+-------+---------+--------+\n",
      "|Customer_ID|Recency|Frequency|Monetary|\n",
      "+-----------+-------+---------+--------+\n",
      "+-----------+-------+---------+--------+\n",
      "\n"
     ]
    }
   ],
   "source": [
    "RFM_matrix.filter((RFM_matrix['Recency'] == 1) & \n",
    "                  (RFM_matrix['Frequency'] == 1) & \n",
    "                  (RFM_matrix['Monetary'] == 1)).show()"
   ]
  },
  {
   "cell_type": "markdown",
   "id": "499d59b6",
   "metadata": {},
   "source": [
    "\"Loyal customers\" segment with RFM X1X"
   ]
  },
  {
   "cell_type": "code",
   "execution_count": 51,
   "id": "dd3fe3a1",
   "metadata": {
    "scrolled": false
   },
   "outputs": [
    {
     "name": "stderr",
     "output_type": "stream",
     "text": [
      "[Stage 89:=====================================================>(197 + 3) / 200]\r"
     ]
    },
    {
     "name": "stdout",
     "output_type": "stream",
     "text": [
      "+-----------+-------+---------+--------+\n",
      "|Customer_ID|Recency|Frequency|Monetary|\n",
      "+-----------+-------+---------+--------+\n",
      "|      13623|      4|        1|       4|\n",
      "|      13623|      4|        1|       4|\n",
      "|      13623|      4|        1|       4|\n",
      "|      13623|      4|        1|       4|\n",
      "|      13623|      4|        1|       4|\n",
      "|      13623|      4|        1|       4|\n",
      "|      13623|      4|        1|       4|\n",
      "|      13623|      4|        1|       4|\n",
      "|      13623|      4|        1|       4|\n",
      "|      13623|      4|        1|       4|\n",
      "|      13623|      4|        1|       4|\n",
      "|      13623|      4|        1|       4|\n",
      "|      13623|      4|        1|       4|\n",
      "|      13623|      4|        1|       4|\n",
      "|      13623|      4|        1|       4|\n",
      "|      13623|      4|        1|       4|\n",
      "|      13623|      4|        1|       4|\n",
      "|      13623|      4|        1|       4|\n",
      "|      13623|      4|        1|       4|\n",
      "|      13623|      4|        1|       4|\n",
      "+-----------+-------+---------+--------+\n",
      "only showing top 20 rows\n",
      "\n"
     ]
    },
    {
     "name": "stderr",
     "output_type": "stream",
     "text": [
      "\r",
      "                                                                                \r"
     ]
    }
   ],
   "source": [
    "RFM_matrix.filter( (RFM_matrix['Frequency'] == 1)).show()"
   ]
  },
  {
   "cell_type": "markdown",
   "id": "8e183586",
   "metadata": {},
   "source": [
    "\"Big spenders\" segment with RFM XX1"
   ]
  },
  {
   "cell_type": "code",
   "execution_count": 52,
   "id": "f600e2c8",
   "metadata": {
    "scrolled": true
   },
   "outputs": [
    {
     "name": "stderr",
     "output_type": "stream",
     "text": [
      "                                                                                \r"
     ]
    },
    {
     "name": "stdout",
     "output_type": "stream",
     "text": [
      "+-----------+-------+---------+--------+\n",
      "|Customer_ID|Recency|Frequency|Monetary|\n",
      "+-----------+-------+---------+--------+\n",
      "|      12757|      4|        1|       1|\n",
      "|      12757|      4|        1|       1|\n",
      "|      12757|      4|        1|       1|\n",
      "|      12757|      4|        1|       1|\n",
      "|      15202|      4|        2|       1|\n",
      "|      15202|      4|        2|       1|\n",
      "|      15202|      4|        2|       1|\n",
      "|      15202|      4|        2|       1|\n",
      "|      15202|      4|        2|       1|\n",
      "|      15202|      4|        2|       1|\n",
      "|      15202|      4|        2|       1|\n",
      "|      14096|      4|        1|       1|\n",
      "|      14096|      4|        1|       1|\n",
      "|      14096|      4|        1|       1|\n",
      "|      14096|      4|        1|       1|\n",
      "|      14096|      4|        1|       1|\n",
      "|      14096|      4|        1|       1|\n",
      "|      14096|      4|        1|       1|\n",
      "|      14096|      4|        1|       1|\n",
      "|      14096|      4|        1|       1|\n",
      "+-----------+-------+---------+--------+\n",
      "only showing top 20 rows\n",
      "\n"
     ]
    }
   ],
   "source": [
    "RFM_matrix.filter((RFM_matrix['Monetary'] == 1)).show()"
   ]
  },
  {
   "cell_type": "markdown",
   "id": "9e476f9f",
   "metadata": {},
   "source": [
    "\"Almost lost\" segment with RFM 311"
   ]
  },
  {
   "cell_type": "code",
   "execution_count": 53,
   "id": "65dddeb4",
   "metadata": {
    "scrolled": true
   },
   "outputs": [
    {
     "name": "stdout",
     "output_type": "stream",
     "text": [
      "+-----------+-------+---------+--------+\n",
      "|Customer_ID|Recency|Frequency|Monetary|\n",
      "+-----------+-------+---------+--------+\n",
      "+-----------+-------+---------+--------+\n",
      "\n"
     ]
    }
   ],
   "source": [
    "RFM_matrix.filter((RFM_matrix['Recency'] == 3) & \n",
    "                  (RFM_matrix['Frequency'] == 1) & \n",
    "                  (RFM_matrix['Monetary'] == 1)).show()"
   ]
  },
  {
   "cell_type": "markdown",
   "id": "0c9d7e59",
   "metadata": {},
   "source": [
    "\"Lost customers\" segment with RFM 411"
   ]
  },
  {
   "cell_type": "code",
   "execution_count": 54,
   "id": "ace4144c",
   "metadata": {},
   "outputs": [
    {
     "name": "stderr",
     "output_type": "stream",
     "text": [
      "                                                                                \r"
     ]
    },
    {
     "name": "stdout",
     "output_type": "stream",
     "text": [
      "+-----------+-------+---------+--------+\n",
      "|Customer_ID|Recency|Frequency|Monetary|\n",
      "+-----------+-------+---------+--------+\n",
      "|      12757|      4|        1|       1|\n",
      "|      12757|      4|        1|       1|\n",
      "|      12757|      4|        1|       1|\n",
      "|      12757|      4|        1|       1|\n",
      "|      14096|      4|        1|       1|\n",
      "|      14096|      4|        1|       1|\n",
      "|      14096|      4|        1|       1|\n",
      "|      14096|      4|        1|       1|\n",
      "|      14096|      4|        1|       1|\n",
      "|      14096|      4|        1|       1|\n",
      "|      14096|      4|        1|       1|\n",
      "|      14096|      4|        1|       1|\n",
      "|      14096|      4|        1|       1|\n",
      "|      14096|      4|        1|       1|\n",
      "|      14096|      4|        1|       1|\n",
      "|      14096|      4|        1|       1|\n",
      "|      17448|      4|        1|       1|\n",
      "|      12744|      4|        1|       1|\n",
      "|      12744|      4|        1|       1|\n",
      "|      12744|      4|        1|       1|\n",
      "+-----------+-------+---------+--------+\n",
      "only showing top 20 rows\n",
      "\n"
     ]
    }
   ],
   "source": [
    "RFM_matrix.filter((RFM_matrix['Recency'] == 4) & \n",
    "                  (RFM_matrix['Frequency'] == 1) & \n",
    "                  (RFM_matrix['Monetary'] == 1)).show()"
   ]
  },
  {
   "cell_type": "markdown",
   "id": "a5980ea0",
   "metadata": {},
   "source": [
    "\"Lost cheap customers\" segment with RFM 444"
   ]
  },
  {
   "cell_type": "code",
   "execution_count": 55,
   "id": "3033fb1e",
   "metadata": {},
   "outputs": [
    {
     "name": "stderr",
     "output_type": "stream",
     "text": [
      "[Stage 146:===================================================> (194 + 4) / 200]\r"
     ]
    },
    {
     "name": "stdout",
     "output_type": "stream",
     "text": [
      "+-----------+-------+---------+--------+\n",
      "|Customer_ID|Recency|Frequency|Monetary|\n",
      "+-----------+-------+---------+--------+\n",
      "|      12799|      4|        4|       4|\n",
      "|      12799|      4|        4|       4|\n",
      "|      12799|      4|        4|       4|\n",
      "|      12799|      4|        4|       4|\n",
      "|      12799|      4|        4|       4|\n",
      "|      12799|      4|        4|       4|\n",
      "|      12799|      4|        4|       4|\n",
      "|      12799|      4|        4|       4|\n",
      "|      12799|      4|        4|       4|\n",
      "|      12799|      4|        4|       4|\n",
      "|      12799|      4|        4|       4|\n",
      "|      12799|      4|        4|       4|\n",
      "|      12799|      4|        4|       4|\n",
      "|      12799|      4|        4|       4|\n",
      "|      12799|      4|        4|       4|\n",
      "|      13289|      4|        4|       4|\n",
      "|      13289|      4|        4|       4|\n",
      "|      13289|      4|        4|       4|\n",
      "|      13289|      4|        4|       4|\n",
      "|      13289|      4|        4|       4|\n",
      "+-----------+-------+---------+--------+\n",
      "only showing top 20 rows\n",
      "\n"
     ]
    },
    {
     "name": "stderr",
     "output_type": "stream",
     "text": [
      "\r",
      "                                                                                \r"
     ]
    }
   ],
   "source": [
    "RFM_matrix.filter((RFM_matrix['Recency'] == 4) & \n",
    "                  (RFM_matrix['Frequency'] == 4) & \n",
    "                  (RFM_matrix['Monetary'] == 4)).show()"
   ]
  }
 ],
 "metadata": {
  "kernelspec": {
   "display_name": "Python 3 (ipykernel)",
   "language": "python",
   "name": "python3"
  },
  "language_info": {
   "codemirror_mode": {
    "name": "ipython",
    "version": 3
   },
   "file_extension": ".py",
   "mimetype": "text/x-python",
   "name": "python",
   "nbconvert_exporter": "python",
   "pygments_lexer": "ipython3",
   "version": "3.8.11"
  }
 },
 "nbformat": 4,
 "nbformat_minor": 5
}
